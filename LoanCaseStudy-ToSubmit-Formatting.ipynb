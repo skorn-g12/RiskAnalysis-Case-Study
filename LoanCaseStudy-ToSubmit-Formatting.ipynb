{
 "cells": [
  {
   "cell_type": "markdown",
   "id": "e7fb9992",
   "metadata": {},
   "source": [
    "### <font color='cyan'> Sections in this notebook: <font>\n",
    "I. Prerequisites \n",
    "    \n",
    "    I.1. Importing modules, load data\n",
    "    I.2. Cache necessary information about the data up front\n",
    "\n",
    "II. Data understanding and cleaning\n",
    "\n",
    "    II.1. Addressing missing data\n",
    "        II.1.1. Let's get a feel for the missing data in the df first\n",
    "        II.1.2. Special cases\n",
    "    II.2. Format Conversion for certain columns\n",
    "    II.3. Quasi-Constant Variables\n",
    "        II.3.1 Numeric\n",
    "        II.3.2. For all other columns\n",
    "        II.3.3. Special cases\n",
    "    II.4. Object type columns\n",
    "    II.5. Data imputation\n",
    "    II.6. Correlation\n",
    "    II.7. Outlier Detection\n",
    "        II.7.1 Box Plots\n",
    "        II.7.2. IQR Analysis\n",
    "    \n",
    "III. Data Analysis:\n",
    "\n",
    "    III.1. Univariate Analysis\n",
    "    III.2. Bivariate analysis"
   ]
  },
  {
   "cell_type": "markdown",
   "id": "9b2b042d",
   "metadata": {},
   "source": [
    "# <font color='goldenrod'> I. Prerequisites </font>"
   ]
  },
  {
   "cell_type": "markdown",
   "id": "aafe3d51",
   "metadata": {},
   "source": [
    "### <font color='skyblue'>  I.1. Importing modules, load data<font>"
   ]
  },
  {
   "cell_type": "code",
   "execution_count": 1,
   "id": "0891b218",
   "metadata": {},
   "outputs": [],
   "source": [
    "import pandas as pd\n",
    "import numpy as np"
   ]
  },
  {
   "cell_type": "code",
   "execution_count": 2,
   "id": "8b9d7cd1",
   "metadata": {},
   "outputs": [],
   "source": [
    "import matplotlib.pyplot as plt\n",
    "import seaborn as sns"
   ]
  },
  {
   "cell_type": "code",
   "execution_count": 3,
   "id": "a16c4386",
   "metadata": {},
   "outputs": [],
   "source": [
    "from sklearn.feature_selection import VarianceThreshold"
   ]
  },
  {
   "cell_type": "markdown",
   "id": "91b272af",
   "metadata": {},
   "source": [
    "##### *1.1. Optional settings used for debugging.*"
   ]
  },
  {
   "cell_type": "code",
   "execution_count": 4,
   "id": "56f2d956",
   "metadata": {},
   "outputs": [
    {
     "data": {
      "text/plain": [
       "60"
      ]
     },
     "execution_count": 4,
     "metadata": {},
     "output_type": "execute_result"
    }
   ],
   "source": [
    "#pd.set_option('display.max_columns', 200)\n",
    "#pd.set_option('display.max_rows', 200)\n",
    "#pd.set_option('display.min_rows', 100)\n",
    "#pd.set_option('display.expand_frame_repr', True)\n",
    "pd.get_option(\"display.max_rows\")"
   ]
  },
  {
   "cell_type": "markdown",
   "id": "7f9b9cd2",
   "metadata": {},
   "source": [
    "##### *1.2. Load data*"
   ]
  },
  {
   "cell_type": "code",
   "execution_count": 4,
   "id": "28b4f5f8",
   "metadata": {},
   "outputs": [],
   "source": [
    "df = pd.read_csv(\"loan.csv\", dtype={\"next_pymnt_d\": \"string\"}) # Explicitly specificying dtype for\n",
    "                                                               # next_pymnt_d column, just to avoid pd warning"
   ]
  },
  {
   "cell_type": "markdown",
   "id": "e0174983",
   "metadata": {},
   "source": [
    "### <font color='skyblue'>  I.2. Cache necessary information about the data up front"
   ]
  },
  {
   "cell_type": "markdown",
   "id": "05de5d8f",
   "metadata": {},
   "source": [
    " <font color=\"asparagus\"> Cache the following info: \n",
    " 1. df dimension, will be used for different percentage based calculations\n",
    " 2. df itself in a separate variable"
   ]
  },
  {
   "cell_type": "code",
   "execution_count": 5,
   "id": "64656a9d",
   "metadata": {},
   "outputs": [],
   "source": [
    "df_loan = df # Caching original df, may be need it later for quick comparison"
   ]
  },
  {
   "cell_type": "code",
   "execution_count": 6,
   "id": "152008f6",
   "metadata": {},
   "outputs": [],
   "source": [
    "nDfShape = df.shape\n",
    "nNoOfRows = nDfShape[0]\n",
    "nNoOfCols = nDfShape[1]"
   ]
  },
  {
   "cell_type": "markdown",
   "id": "9c9d7480",
   "metadata": {},
   "source": [
    "# <font color='goldenrod'> II. Data understanding and cleaning </font>"
   ]
  },
  {
   "cell_type": "markdown",
   "id": "55391659",
   "metadata": {},
   "source": [
    "### <font color='skyblue'>  II.1. Addressing missing data"
   ]
  },
  {
   "cell_type": "markdown",
   "id": "8e76f47d",
   "metadata": {},
   "source": [
    "#### II.1.1.  Let's get a feel for the missing data in the df first <br>\n",
    "$\\Rightarrow$ Instead of manually tackling each column, we will try to automate as much as possible"
   ]
  },
  {
   "cell_type": "code",
   "execution_count": 7,
   "id": "40119627",
   "metadata": {
    "scrolled": true
   },
   "outputs": [
    {
     "name": "stdout",
     "output_type": "stream",
     "text": [
      "<class 'pandas.core.frame.DataFrame'>\n",
      "RangeIndex: 39717 entries, 0 to 39716\n",
      "Columns: 111 entries, id to total_il_high_credit_limit\n",
      "dtypes: float64(74), int64(13), object(23), string(1)\n",
      "memory usage: 33.6+ MB\n"
     ]
    }
   ],
   "source": [
    "df.info()"
   ]
  },
  {
   "cell_type": "markdown",
   "id": "5e9348c8",
   "metadata": {},
   "source": [
    "$\\Rightarrow$ <font color=\"asparagus\"> The following function returns the #NaNs and #unique values in one column\""
   ]
  },
  {
   "cell_type": "code",
   "execution_count": 8,
   "id": "7ec2eae8",
   "metadata": {},
   "outputs": [],
   "source": [
    "def get_columnInfo(df, column):\n",
    "    return [df[column].isna().sum(), df[column].nunique()]"
   ]
  },
  {
   "cell_type": "markdown",
   "id": "ed4443e0",
   "metadata": {},
   "source": [
    "$\\Rightarrow$ <font color=\"asparagus\"> Store this information in a dictionary"
   ]
  },
  {
   "cell_type": "code",
   "execution_count": 9,
   "id": "355c03df",
   "metadata": {},
   "outputs": [],
   "source": [
    "columnInfo = {}\n",
    "for col in df.columns:\n",
    "    columnInfo[col] = get_columnInfo(df,col)"
   ]
  },
  {
   "cell_type": "code",
   "execution_count": 10,
   "id": "9654d608",
   "metadata": {},
   "outputs": [],
   "source": [
    "nNanThreshold = 0.6 # If a column has 60% missing values, we can drop it. This number is can be smaller,\n",
    "                    # but for this dataset 60% works"
   ]
  },
  {
   "cell_type": "code",
   "execution_count": 11,
   "id": "e8d8287f",
   "metadata": {},
   "outputs": [
    {
     "name": "stdout",
     "output_type": "stream",
     "text": [
      "Column  mths_since_last_delinq missing:  64.66 %\n",
      "Column  mths_since_last_record missing:  92.99 %\n",
      "Column  next_pymnt_d missing:  97.13 %\n",
      "Column  mths_since_last_major_derog missing:  100.0 %\n",
      "Column  annual_inc_joint missing:  100.0 %\n",
      "Column  dti_joint missing:  100.0 %\n",
      "Column  verification_status_joint missing:  100.0 %\n",
      "Column  tot_coll_amt missing:  100.0 %\n",
      "Column  tot_cur_bal missing:  100.0 %\n",
      "Column  open_acc_6m missing:  100.0 %\n",
      "Column  open_il_6m missing:  100.0 %\n",
      "Column  open_il_12m missing:  100.0 %\n",
      "Column  open_il_24m missing:  100.0 %\n",
      "Column  mths_since_rcnt_il missing:  100.0 %\n",
      "Column  total_bal_il missing:  100.0 %\n",
      "Column  il_util missing:  100.0 %\n",
      "Column  open_rv_12m missing:  100.0 %\n",
      "Column  open_rv_24m missing:  100.0 %\n",
      "Column  max_bal_bc missing:  100.0 %\n",
      "Column  all_util missing:  100.0 %\n",
      "Column  total_rev_hi_lim missing:  100.0 %\n",
      "Column  inq_fi missing:  100.0 %\n",
      "Column  total_cu_tl missing:  100.0 %\n",
      "Column  inq_last_12m missing:  100.0 %\n",
      "Column  acc_open_past_24mths missing:  100.0 %\n",
      "Column  avg_cur_bal missing:  100.0 %\n",
      "Column  bc_open_to_buy missing:  100.0 %\n",
      "Column  bc_util missing:  100.0 %\n",
      "Column  mo_sin_old_il_acct missing:  100.0 %\n",
      "Column  mo_sin_old_rev_tl_op missing:  100.0 %\n",
      "Column  mo_sin_rcnt_rev_tl_op missing:  100.0 %\n",
      "Column  mo_sin_rcnt_tl missing:  100.0 %\n",
      "Column  mort_acc missing:  100.0 %\n",
      "Column  mths_since_recent_bc missing:  100.0 %\n",
      "Column  mths_since_recent_bc_dlq missing:  100.0 %\n",
      "Column  mths_since_recent_inq missing:  100.0 %\n",
      "Column  mths_since_recent_revol_delinq missing:  100.0 %\n",
      "Column  num_accts_ever_120_pd missing:  100.0 %\n",
      "Column  num_actv_bc_tl missing:  100.0 %\n",
      "Column  num_actv_rev_tl missing:  100.0 %\n",
      "Column  num_bc_sats missing:  100.0 %\n",
      "Column  num_bc_tl missing:  100.0 %\n",
      "Column  num_il_tl missing:  100.0 %\n",
      "Column  num_op_rev_tl missing:  100.0 %\n",
      "Column  num_rev_accts missing:  100.0 %\n",
      "Column  num_rev_tl_bal_gt_0 missing:  100.0 %\n",
      "Column  num_sats missing:  100.0 %\n",
      "Column  num_tl_120dpd_2m missing:  100.0 %\n",
      "Column  num_tl_30dpd missing:  100.0 %\n",
      "Column  num_tl_90g_dpd_24m missing:  100.0 %\n",
      "Column  num_tl_op_past_12m missing:  100.0 %\n",
      "Column  pct_tl_nvr_dlq missing:  100.0 %\n",
      "Column  percent_bc_gt_75 missing:  100.0 %\n",
      "Column  tot_hi_cred_lim missing:  100.0 %\n",
      "Column  total_bal_ex_mort missing:  100.0 %\n",
      "Column  total_bc_limit missing:  100.0 %\n",
      "Column  total_il_high_credit_limit missing:  100.0 %\n"
     ]
    }
   ],
   "source": [
    "droppedCols = []\n",
    "for col in df.columns:\n",
    "    if (columnInfo[col][0]/nNoOfRows) >= nNanThreshold:\n",
    "        print(\"Column \", col, end=\" \")\n",
    "        print(\"missing: \", round(100*columnInfo[col][0]/nNoOfRows,2), \"%\")\n",
    "        droppedCols.append(col)"
   ]
  },
  {
   "cell_type": "markdown",
   "id": "965353d9",
   "metadata": {},
   "source": [
    "#### <font color=\"asparagus\"> *Observations and Comments*:<font> \n",
    "$\\Rightarrow$ From the stdout above, **2** columns have 64.66% and 92.99% missing, while the remaining **54** have 100% missing data.<br>\n",
    "$\\Rightarrow$ I have cached this in droppedCols. Let's further analyze and drop all these columns at once at the end right before k-variate analysis"
   ]
  },
  {
   "cell_type": "markdown",
   "id": "37d6126e",
   "metadata": {},
   "source": [
    "#### II.1.2. Special cases: id, member_id and url are not features! <br>\n",
    "#### <font color=\"asparagus\"> *Each entry will be unique, whose description from the data dictionary supplied to us is as follows:*<font>\n",
    "- member_id: A unique LC assigned Id for the borrower member.\n",
    "- id: A unique LC assigned ID for the loan listing.\n",
    "- url: URL for the LC page with listing data.<br>\n",
    "<font color=\"asparagus\"> $\\Rightarrow$ *Side note*:<font>\n",
    "    \n",
    "- Even if all of *id* was not unique and there was repetition,  keeping *url* will still not make sense, since it only contains id information. \n",
    "Eg: For id: 1077501, the url is https://lendingclub.com/browse/loanDetail.action?loan_id=1077501. Really doesn't make sense to keep url.\n",
    "- Add these three columns to the list of columns to be dropped\n",
    "    "
   ]
  },
  {
   "cell_type": "code",
   "execution_count": 12,
   "id": "9629e0a8",
   "metadata": {},
   "outputs": [
    {
     "data": {
      "text/plain": [
       "(39717, 39717, 39717)"
      ]
     },
     "execution_count": 12,
     "metadata": {},
     "output_type": "execute_result"
    }
   ],
   "source": [
    "df.id.nunique(), df.member_id.nunique(), df.url.nunique() # Proving it to you : ) "
   ]
  },
  {
   "cell_type": "code",
   "execution_count": 13,
   "id": "47e2a1ec",
   "metadata": {},
   "outputs": [],
   "source": [
    "droppedCols.append(\"id\")\n",
    "droppedCols.append(\"member_id\")\n",
    "droppedCols.append(\"url\")"
   ]
  },
  {
   "cell_type": "markdown",
   "id": "d56d6a50",
   "metadata": {},
   "source": [
    "### <font color='skyblue'>  II.1. Format Conversion for certain columns<font>\n",
    "- term\n",
    "- int_rate\n",
    "- emp_length\n",
    "- revol_util"
   ]
  },
  {
   "cell_type": "markdown",
   "id": "a68dfcfa",
   "metadata": {},
   "source": [
    "##### <font color=\"asparagus\"> $\\Rightarrow$ 1. *term*:<font>"
   ]
  },
  {
   "cell_type": "code",
   "execution_count": 14,
   "id": "fd22ff64",
   "metadata": {},
   "outputs": [
    {
     "data": {
      "text/plain": [
       "(count          39717\n",
       " unique             2\n",
       " top        36 months\n",
       " freq           29096\n",
       " Name: term, dtype: object,\n",
       " array([' 36 months', ' 60 months'], dtype=object))"
      ]
     },
     "execution_count": 14,
     "metadata": {},
     "output_type": "execute_result"
    }
   ],
   "source": [
    "df.term.describe(), df.term.unique()"
   ]
  },
  {
   "cell_type": "markdown",
   "id": "8addcd7a",
   "metadata": {},
   "source": [
    "##### <font color=\"asparagus\"> $\\Rightarrow$ *Makes sense removing the string \" months\" and storing it as an int*<font>"
   ]
  },
  {
   "cell_type": "code",
   "execution_count": 15,
   "id": "cdd32328",
   "metadata": {},
   "outputs": [],
   "source": [
    "df.term = df.term.str.replace(\" months\", \"\")\n",
    "df.term = df.term.astype(int)"
   ]
  },
  {
   "cell_type": "code",
   "execution_count": 16,
   "id": "9aef1d2f",
   "metadata": {},
   "outputs": [
    {
     "data": {
      "text/plain": [
       "array([36, 60])"
      ]
     },
     "execution_count": 16,
     "metadata": {},
     "output_type": "execute_result"
    }
   ],
   "source": [
    "df.term.unique()"
   ]
  },
  {
   "cell_type": "markdown",
   "id": "eee6d77b",
   "metadata": {},
   "source": [
    "##### <font color=\"asparagus\"> $\\Rightarrow$ *Converting months to years* <font>"
   ]
  },
  {
   "cell_type": "code",
   "execution_count": 18,
   "id": "f37d90d8",
   "metadata": {},
   "outputs": [],
   "source": [
    "df.term = df.term//12"
   ]
  },
  {
   "cell_type": "code",
   "execution_count": 21,
   "id": "f4314a81",
   "metadata": {},
   "outputs": [
    {
     "data": {
      "text/plain": [
       "array([3, 5])"
      ]
     },
     "execution_count": 21,
     "metadata": {},
     "output_type": "execute_result"
    }
   ],
   "source": [
    "df.term.unique()"
   ]
  },
  {
   "cell_type": "markdown",
   "id": "d453bda0",
   "metadata": {},
   "source": [
    "##### <font color=\"asparagus\"> $\\Rightarrow$ 2. *int_rate*:<font> "
   ]
  },
  {
   "cell_type": "code",
   "execution_count": 22,
   "id": "9839aeb4",
   "metadata": {},
   "outputs": [
    {
     "data": {
      "text/plain": [
       "count      39717\n",
       "unique       371\n",
       "top       10.99%\n",
       "freq         956\n",
       "Name: int_rate, dtype: object"
      ]
     },
     "execution_count": 22,
     "metadata": {},
     "output_type": "execute_result"
    }
   ],
   "source": [
    "df.int_rate.describe()"
   ]
  },
  {
   "cell_type": "markdown",
   "id": "b607ed5d",
   "metadata": {},
   "source": [
    "##### <font color=\"asparagus\"> $\\Rightarrow$ *We can get rid of the %* <font>"
   ]
  },
  {
   "cell_type": "code",
   "execution_count": 23,
   "id": "ed05d9a4",
   "metadata": {},
   "outputs": [],
   "source": [
    "df.int_rate = df.int_rate.str.replace(\"%\",\"\")"
   ]
  },
  {
   "cell_type": "code",
   "execution_count": 24,
   "id": "34b50ac6",
   "metadata": {},
   "outputs": [],
   "source": [
    "df.int_rate = df.int_rate.astype(float)"
   ]
  },
  {
   "cell_type": "markdown",
   "id": "7ec5c5a5",
   "metadata": {},
   "source": [
    "##### <font color=\"asparagus\"> $\\Rightarrow$ 3. *emp_length* <font>"
   ]
  },
  {
   "cell_type": "code",
   "execution_count": 25,
   "id": "4e9c5b00",
   "metadata": {
    "scrolled": true
   },
   "outputs": [
    {
     "data": {
      "text/plain": [
       "array(['10+ years', '< 1 year', '1 year', '3 years', '8 years', '9 years',\n",
       "       '4 years', '5 years', '6 years', '2 years', '7 years', nan],\n",
       "      dtype=object)"
      ]
     },
     "execution_count": 25,
     "metadata": {},
     "output_type": "execute_result"
    }
   ],
   "source": [
    "df.emp_length.unique()"
   ]
  },
  {
   "cell_type": "markdown",
   "id": "ba37f671",
   "metadata": {},
   "source": [
    "##### <font color=\"asparagus\"> $\\Rightarrow$ *We can get rid of \"year\" & \"years\"* <font>"
   ]
  },
  {
   "cell_type": "code",
   "execution_count": 26,
   "id": "5a938fa0",
   "metadata": {},
   "outputs": [],
   "source": [
    "df.emp_length = df.emp_length.str.replace(\" years\",\"\")"
   ]
  },
  {
   "cell_type": "code",
   "execution_count": 27,
   "id": "f1894d5d",
   "metadata": {},
   "outputs": [],
   "source": [
    "df.emp_length = df.emp_length.str.replace(\" year\", \"\")"
   ]
  },
  {
   "cell_type": "code",
   "execution_count": 28,
   "id": "0823bda0",
   "metadata": {},
   "outputs": [
    {
     "data": {
      "text/plain": [
       "array(['10+', '< 1', '1', '3', '8', '9', '4', '5', '6', '2', '7', nan],\n",
       "      dtype=object)"
      ]
     },
     "execution_count": 28,
     "metadata": {},
     "output_type": "execute_result"
    }
   ],
   "source": [
    "df.emp_length.unique()"
   ]
  },
  {
   "cell_type": "markdown",
   "id": "f8d63244",
   "metadata": {},
   "source": [
    "#### <font color=\"asparagus\"> *Comments*:<font> \n",
    "$\\Rightarrow$ I think it will be more meaningful to categorize this column into bins: *May be soemthing like: 0-2, 2-4, 4-6, 6-8, 8-10, 10+*? <font color=\"red\"> TO DO! <font>"
   ]
  },
  {
   "cell_type": "markdown",
   "id": "928d1b5b",
   "metadata": {},
   "source": [
    "##### <font color=\"asparagus\"> $\\Rightarrow$ 3. *revol_util* <font>"
   ]
  },
  {
   "cell_type": "code",
   "execution_count": 29,
   "id": "d89f5f31",
   "metadata": {},
   "outputs": [
    {
     "data": {
      "text/plain": [
       "count     39667\n",
       "unique     1089\n",
       "top          0%\n",
       "freq        977\n",
       "Name: revol_util, dtype: object"
      ]
     },
     "execution_count": 29,
     "metadata": {},
     "output_type": "execute_result"
    }
   ],
   "source": [
    "df.revol_util.describe()"
   ]
  },
  {
   "cell_type": "code",
   "execution_count": 30,
   "id": "622caccd",
   "metadata": {},
   "outputs": [],
   "source": [
    "df.revol_util = df.revol_util.str.replace(\"%\",\"\") # Getting rid of \"%\""
   ]
  },
  {
   "cell_type": "code",
   "execution_count": 31,
   "id": "103782f3",
   "metadata": {},
   "outputs": [],
   "source": [
    "df.revol_util= df.revol_util.astype(\"float\")"
   ]
  },
  {
   "cell_type": "markdown",
   "id": "197d941f",
   "metadata": {},
   "source": [
    "### <font color='skyblue'> II.3. Quasi-Constant Variables\n",
    "* Inspired by [Towards Data Science blog on this topic](https://towardsdatascience.com/how-to-detect-constant-quasi-constant-features-in-your-dataset-a1ab7aea34b4)\n",
    "* Check out [sklearn.feature_selection.VarianceThreshold](https://scikit-learn.org/stable/modules/generated/sklearn.feature_selection.VarianceThreshold.html) for more info!"
   ]
  },
  {
   "cell_type": "markdown",
   "id": "7f3f4a86",
   "metadata": {},
   "source": [
    "####  II.3.1. Numeric data <font>\n",
    "#### <font color=\"asparagus\"> $\\Rightarrow$ Let's drop quasi-constant features where 95% of the values are similar or constant on all the numeric columns <font>"
   ]
  },
  {
   "cell_type": "code",
   "execution_count": 32,
   "id": "dc1d8d63",
   "metadata": {},
   "outputs": [],
   "source": [
    "df_numeric = df.select_dtypes(include=np.number)"
   ]
  },
  {
   "cell_type": "code",
   "execution_count": 33,
   "id": "0500f286",
   "metadata": {},
   "outputs": [
    {
     "data": {
      "text/plain": [
       "90"
      ]
     },
     "execution_count": 33,
     "metadata": {},
     "output_type": "execute_result"
    }
   ],
   "source": [
    "df_numeric.shape[1]"
   ]
  },
  {
   "cell_type": "code",
   "execution_count": 34,
   "id": "2a2b22c0",
   "metadata": {},
   "outputs": [
    {
     "name": "stderr",
     "output_type": "stream",
     "text": [
      "C:\\Users\\santvenk\\Anaconda3\\lib\\site-packages\\sklearn\\feature_selection\\_variance_threshold.py:104: RuntimeWarning: Degrees of freedom <= 0 for slice.\n",
      "  self.variances_ = np.nanvar(X, axis=0)\n"
     ]
    },
    {
     "data": {
      "text/plain": [
       "VarianceThreshold(threshold=0.05)"
      ]
     },
     "execution_count": 34,
     "metadata": {},
     "output_type": "execute_result"
    }
   ],
   "source": [
    "sel = VarianceThreshold(threshold=0.05)\n",
    "\n",
    "sel.fit(df_numeric.iloc[:,:])\n"
   ]
  },
  {
   "cell_type": "markdown",
   "id": "cfd8158c",
   "metadata": {},
   "source": [
    "#### <font color=\"asparagus\"> *Comments*:<font>\n",
    "$\\Rightarrow$ Once it is fit, the support of the vector, sel will give me all the retained features.<br>\n",
    "$\\Rightarrow$ Therefore anything that does not appear in df.columns[support()] are *quasi-constant*\n",
    "    "
   ]
  },
  {
   "cell_type": "code",
   "execution_count": 35,
   "id": "d99d780f",
   "metadata": {},
   "outputs": [],
   "source": [
    "quasi_constant_features_list = [x for x in df_numeric.columns if x not in df_numeric.columns[sel.get_support()]]\n"
   ]
  },
  {
   "cell_type": "code",
   "execution_count": 36,
   "id": "fa8c4fd6",
   "metadata": {},
   "outputs": [
    {
     "data": {
      "text/plain": [
       "(61,\n",
       " ['collections_12_mths_ex_med',\n",
       "  'mths_since_last_major_derog',\n",
       "  'policy_code',\n",
       "  'annual_inc_joint',\n",
       "  'dti_joint',\n",
       "  'verification_status_joint',\n",
       "  'acc_now_delinq',\n",
       "  'tot_coll_amt',\n",
       "  'tot_cur_bal',\n",
       "  'open_acc_6m',\n",
       "  'open_il_6m',\n",
       "  'open_il_12m',\n",
       "  'open_il_24m',\n",
       "  'mths_since_rcnt_il',\n",
       "  'total_bal_il',\n",
       "  'il_util',\n",
       "  'open_rv_12m',\n",
       "  'open_rv_24m',\n",
       "  'max_bal_bc',\n",
       "  'all_util',\n",
       "  'total_rev_hi_lim',\n",
       "  'inq_fi',\n",
       "  'total_cu_tl',\n",
       "  'inq_last_12m',\n",
       "  'acc_open_past_24mths',\n",
       "  'avg_cur_bal',\n",
       "  'bc_open_to_buy',\n",
       "  'bc_util',\n",
       "  'chargeoff_within_12_mths',\n",
       "  'delinq_amnt',\n",
       "  'mo_sin_old_il_acct',\n",
       "  'mo_sin_old_rev_tl_op',\n",
       "  'mo_sin_rcnt_rev_tl_op',\n",
       "  'mo_sin_rcnt_tl',\n",
       "  'mort_acc',\n",
       "  'mths_since_recent_bc',\n",
       "  'mths_since_recent_bc_dlq',\n",
       "  'mths_since_recent_inq',\n",
       "  'mths_since_recent_revol_delinq',\n",
       "  'num_accts_ever_120_pd',\n",
       "  'num_actv_bc_tl',\n",
       "  'num_actv_rev_tl',\n",
       "  'num_bc_sats',\n",
       "  'num_bc_tl',\n",
       "  'num_il_tl',\n",
       "  'num_op_rev_tl',\n",
       "  'num_rev_accts',\n",
       "  'num_rev_tl_bal_gt_0',\n",
       "  'num_sats',\n",
       "  'num_tl_120dpd_2m',\n",
       "  'num_tl_30dpd',\n",
       "  'num_tl_90g_dpd_24m',\n",
       "  'num_tl_op_past_12m',\n",
       "  'pct_tl_nvr_dlq',\n",
       "  'percent_bc_gt_75',\n",
       "  'pub_rec_bankruptcies',\n",
       "  'tax_liens',\n",
       "  'tot_hi_cred_lim',\n",
       "  'total_bal_ex_mort',\n",
       "  'total_bc_limit',\n",
       "  'total_il_high_credit_limit'])"
      ]
     },
     "execution_count": 36,
     "metadata": {},
     "output_type": "execute_result"
    }
   ],
   "source": [
    "len(quasi_constant_features_list), quasi_constant_features_list"
   ]
  },
  {
   "cell_type": "markdown",
   "id": "bbc3bfde",
   "metadata": {},
   "source": [
    "#### <font color=\"asparagus\"> $\\Rightarrow$ Remember, we already have identified many columns to be dropped, so there might be an overlap. So let's check the newly identified columns"
   ]
  },
  {
   "cell_type": "code",
   "execution_count": 37,
   "id": "21624a8d",
   "metadata": {},
   "outputs": [],
   "source": [
    "newly_identified_cols = [col for col in quasi_constant_features_list if col not in droppedCols]"
   ]
  },
  {
   "cell_type": "markdown",
   "id": "94c5fb43",
   "metadata": {},
   "source": [
    "#### <font color=\"asparagus\"> $\\Rightarrow$ The names of the newly identified columns are:"
   ]
  },
  {
   "cell_type": "code",
   "execution_count": 38,
   "id": "b20575e0",
   "metadata": {},
   "outputs": [
    {
     "data": {
      "text/plain": [
       "['collections_12_mths_ex_med',\n",
       " 'policy_code',\n",
       " 'acc_now_delinq',\n",
       " 'chargeoff_within_12_mths',\n",
       " 'delinq_amnt',\n",
       " 'pub_rec_bankruptcies',\n",
       " 'tax_liens']"
      ]
     },
     "execution_count": 38,
     "metadata": {},
     "output_type": "execute_result"
    }
   ],
   "source": [
    "newly_identified_cols"
   ]
  },
  {
   "cell_type": "markdown",
   "id": "ea9f59ca",
   "metadata": {},
   "source": [
    "#### <font color=\"asparagus\"> $\\Rightarrow$ If you look at the unique values of these newly identified columns, you would find that besides pub_rec_bankruptcies, the others are straight up constants and not just quasi-constant.<br><font>\n",
    "#### <font color=\"asparagus\"> $\\Rightarrow$ Either way, it makes sense to drop these columns too"
   ]
  },
  {
   "cell_type": "code",
   "execution_count": 39,
   "id": "1e62aa20",
   "metadata": {},
   "outputs": [
    {
     "data": {
      "text/plain": [
       "[1, 1, 1, 1, 1, 3, 1]"
      ]
     },
     "execution_count": 39,
     "metadata": {},
     "output_type": "execute_result"
    }
   ],
   "source": [
    "[df[col].nunique() for col in newly_identified_cols]\n",
    "    "
   ]
  },
  {
   "cell_type": "code",
   "execution_count": 40,
   "id": "b4622ec5",
   "metadata": {},
   "outputs": [
    {
     "data": {
      "text/plain": [
       "[None, None, None, None, None, None, None]"
      ]
     },
     "execution_count": 40,
     "metadata": {},
     "output_type": "execute_result"
    }
   ],
   "source": [
    "[droppedCols.append(col) for col in newly_identified_cols]"
   ]
  },
  {
   "cell_type": "markdown",
   "id": "7e7871e5",
   "metadata": {},
   "source": [
    "#### II.3.2 For all other columns"
   ]
  },
  {
   "cell_type": "markdown",
   "id": "023cd4b8",
   "metadata": {},
   "source": [
    "#### <font color=\"asparagus\"> $\\Rightarrow$ columnInfo already has the number of unique values for each column, we had cached it ealier.<font>\n",
    "#### <font color=\"asparagus\"> $\\Rightarrow$ Now is the time to add any column that has only one unique to the list of columns to be dropped : ) <font>"
   ]
  },
  {
   "cell_type": "code",
   "execution_count": 41,
   "id": "3e4be97e",
   "metadata": {},
   "outputs": [
    {
     "name": "stdout",
     "output_type": "stream",
     "text": [
      "The following columns have only 1 value throughout the data\n",
      "col: pymnt_plan \n",
      "col: initial_list_status \n",
      "col: application_type \n"
     ]
    }
   ],
   "source": [
    "# [droppedCols.append(col) if (df[col].nunique() == 1 & col not in droppedCols) for col in columnInfo] List comprehension to do this..\n",
    "print(\"The following columns have only 1 value throughout the data\")\n",
    "for col in columnInfo:\n",
    "    if (df[col].nunique() == 1) & (col not in droppedCols):\n",
    "        print(f\"col: {col} \")\n",
    "        droppedCols.append(col)"
   ]
  },
  {
   "cell_type": "markdown",
   "id": "8f2aeeed",
   "metadata": {},
   "source": [
    "#### II.3.3. Special Cases\n",
    "#### <font color=\"asparagus\"> $\\Rightarrow$ It's important to note that *desc* column is pointless to have. It contains sentences and words that the borrower filled out when asking for a loan. Now we already have a column called *purpose* which as the name implies holds the purpose for which the loan was taken.<font>\n",
    "#### <font color=\"asparagus\"> $\\Rightarrow$It has 7 unique values, so we will stick with this column and drop *desc* altogether, unless we want to do sentiment analysis : )<font>"
   ]
  },
  {
   "cell_type": "code",
   "execution_count": 42,
   "id": "9d430038",
   "metadata": {},
   "outputs": [
    {
     "data": {
      "text/plain": [
       "array(['  Borrower added on 12/22/11 > I need to upgrade my business technologies.<br>',\n",
       "       '  Borrower added on 12/22/11 > I plan to use this money to finance the motorcycle i am looking at. I plan to have it paid off as soon as possible/when i sell my old bike. I only need this money because the deal im looking at is to good to pass up.<br><br>  Borrower added on 12/22/11 > I plan to use this money to finance the motorcycle i am looking at. I plan to have it paid off as soon as possible/when i sell my old bike.I only need this money because the deal im looking at is to good to pass up. I have finished college with an associates degree in business and its takingmeplaces<br>',\n",
       "       nan, ...,\n",
       "       'Our current gutter system on our home is old and in need of repair.    We will be using the borrowed funds to replace the gutter system on our home.',\n",
       "       'The rate of interest and fees incurred by carrying a balance on my credit card are so outrageous at this point that continuing to pay them is patently bad financial thinking.  I wish to redirect my efforts at retiring my debt via another more-reasonable means.    I have sufficient funds to direct to this end on a monthly basis, and have simply gotten tired of their being gobbled up by interest and fees.',\n",
       "       'I plan to consolidate over $7,000 of debt: a combination of credit cards and student loans.'],\n",
       "      dtype=object)"
      ]
     },
     "execution_count": 42,
     "metadata": {},
     "output_type": "execute_result"
    }
   ],
   "source": [
    "df.desc.unique() # Just an example of the contents of desc column"
   ]
  },
  {
   "cell_type": "code",
   "execution_count": 43,
   "id": "9f3f05b9",
   "metadata": {},
   "outputs": [],
   "source": [
    "droppedCols.append(\"desc\")"
   ]
  },
  {
   "cell_type": "markdown",
   "id": "dcfd047c",
   "metadata": {},
   "source": [
    "#### <font color=\"asparagus\"> *Comments*: <br> $\\Rightarrow$ Finally, let's drop all the columns we have accumulated so far <font>"
   ]
  },
  {
   "cell_type": "code",
   "execution_count": 44,
   "id": "f48f2e59",
   "metadata": {},
   "outputs": [
    {
     "data": {
      "text/plain": [
       "111"
      ]
     },
     "execution_count": 44,
     "metadata": {},
     "output_type": "execute_result"
    }
   ],
   "source": [
    "nNoOfCols"
   ]
  },
  {
   "cell_type": "code",
   "execution_count": 45,
   "id": "ba2d1e68",
   "metadata": {},
   "outputs": [
    {
     "name": "stdout",
     "output_type": "stream",
     "text": [
      "Number of columns to be dropped 71, Remainder: 40\n"
     ]
    }
   ],
   "source": [
    "print(f\"Number of columns to be dropped {len(set(droppedCols))}, Remainder: {nNoOfCols - len(set(droppedCols))}\")"
   ]
  },
  {
   "cell_type": "code",
   "execution_count": 46,
   "id": "53529811",
   "metadata": {},
   "outputs": [],
   "source": [
    "df.drop(droppedCols,axis=1, inplace=True)"
   ]
  },
  {
   "cell_type": "code",
   "execution_count": 47,
   "id": "4b60c187",
   "metadata": {},
   "outputs": [],
   "source": [
    "nNoOfCols = df.shape[1] # Updating nNoOfCols"
   ]
  },
  {
   "cell_type": "code",
   "execution_count": 48,
   "id": "123f0237",
   "metadata": {},
   "outputs": [
    {
     "data": {
      "text/plain": [
       "40"
      ]
     },
     "execution_count": 48,
     "metadata": {},
     "output_type": "execute_result"
    }
   ],
   "source": [
    "nNoOfCols"
   ]
  },
  {
   "cell_type": "markdown",
   "id": "d5075ba1",
   "metadata": {},
   "source": [
    "### <font color='skyblue'>  II.4. Object type columns <font>"
   ]
  },
  {
   "cell_type": "markdown",
   "id": "6f78beff",
   "metadata": {},
   "source": [
    "#### <font color=\"asparagus\"> *I generally do not like to leave object type columns as is. There could be some inconsistencies in the way data is filled.*<font> \n",
    "#### <font color=\"asparagus\"> $\\Rightarrow$ Let's sanitize them and explicitly convert them to appropriate formats <font>"
   ]
  },
  {
   "cell_type": "code",
   "execution_count": 49,
   "id": "9fbc9c42",
   "metadata": {},
   "outputs": [],
   "source": [
    "df_object = df.select_dtypes(include=\"object\")"
   ]
  },
  {
   "cell_type": "markdown",
   "id": "946e4596",
   "metadata": {},
   "source": [
    "#### <font color=\"asparagus\"> Just checking what kind of values they take"
   ]
  },
  {
   "cell_type": "code",
   "execution_count": 50,
   "id": "04901bec",
   "metadata": {},
   "outputs": [
    {
     "name": "stdout",
     "output_type": "stream",
     "text": [
      "col : grade [0, 7]\n",
      "col : sub_grade [0, 35]\n",
      "col : emp_title [2459, 28820]\n",
      "col : emp_length [1075, 11]\n",
      "col : home_ownership [0, 5]\n",
      "col : verification_status [0, 3]\n",
      "col : issue_d [0, 55]\n",
      "col : loan_status [0, 3]\n",
      "col : purpose [0, 14]\n",
      "col : title [11, 19615]\n",
      "col : zip_code [0, 823]\n",
      "col : addr_state [0, 50]\n",
      "col : earliest_cr_line [0, 526]\n",
      "col : last_pymnt_d [71, 101]\n",
      "col : last_credit_pull_d [2, 106]\n"
     ]
    }
   ],
   "source": [
    "for col in df_object.columns:\n",
    "    print(\"col :\", col, end=\" \")\n",
    "    print(columnInfo[col])"
   ]
  },
  {
   "cell_type": "markdown",
   "id": "b429c28a",
   "metadata": {},
   "source": [
    "#### <font color=\"asparagus\"> Don't want to flood stdout, just printing the unique values for columns with less than 16 unique values <font>"
   ]
  },
  {
   "cell_type": "code",
   "execution_count": 51,
   "id": "3a36989c",
   "metadata": {},
   "outputs": [
    {
     "name": "stdout",
     "output_type": "stream",
     "text": [
      "col : grade ['B' 'C' 'A' 'E' 'F' 'D' 'G']\n",
      "col : emp_length ['10+' '< 1' '1' '3' '8' '9' '4' '5' '6' '2' '7' nan]\n",
      "col : home_ownership ['RENT' 'OWN' 'MORTGAGE' 'OTHER' 'NONE']\n",
      "col : verification_status ['Verified' 'Source Verified' 'Not Verified']\n",
      "col : loan_status ['Fully Paid' 'Charged Off' 'Current']\n",
      "col : purpose ['credit_card' 'car' 'small_business' 'other' 'wedding'\n",
      " 'debt_consolidation' 'home_improvement' 'major_purchase' 'medical'\n",
      " 'moving' 'vacation' 'house' 'renewable_energy' 'educational']\n"
     ]
    }
   ],
   "source": [
    "for col in df_object.columns:\n",
    "    if columnInfo[col][1] <= 15:\n",
    "        print(\"col :\", col, end=\" \")\n",
    "        print(df[col].unique())"
   ]
  },
  {
   "cell_type": "markdown",
   "id": "195e41e2",
   "metadata": {},
   "source": [
    "#### <font color=\"asparagus\"> All of these columns can first be converted to string type, since none of them have any other problems <font>"
   ]
  },
  {
   "cell_type": "code",
   "execution_count": 52,
   "id": "023113f4",
   "metadata": {},
   "outputs": [],
   "source": [
    "for col in df_object.columns:\n",
    "    df[col] = df[col].astype(\"string\")"
   ]
  },
  {
   "cell_type": "markdown",
   "id": "744e4f88",
   "metadata": {},
   "source": [
    "### <font color='skyblue'>  II.4. Data Imputation for missing rows"
   ]
  },
  {
   "cell_type": "code",
   "execution_count": 53,
   "id": "e95bcf36",
   "metadata": {},
   "outputs": [
    {
     "data": {
      "text/plain": [
       "loan_amnt                     0\n",
       "funded_amnt                   0\n",
       "funded_amnt_inv               0\n",
       "term                          0\n",
       "int_rate                      0\n",
       "installment                   0\n",
       "grade                         0\n",
       "sub_grade                     0\n",
       "emp_title                  2459\n",
       "emp_length                 1075\n",
       "home_ownership                0\n",
       "annual_inc                    0\n",
       "verification_status           0\n",
       "issue_d                       0\n",
       "loan_status                   0\n",
       "purpose                       0\n",
       "title                        11\n",
       "zip_code                      0\n",
       "addr_state                    0\n",
       "dti                           0\n",
       "delinq_2yrs                   0\n",
       "earliest_cr_line              0\n",
       "inq_last_6mths                0\n",
       "open_acc                      0\n",
       "pub_rec                       0\n",
       "revol_bal                     0\n",
       "revol_util                   50\n",
       "total_acc                     0\n",
       "out_prncp                     0\n",
       "out_prncp_inv                 0\n",
       "total_pymnt                   0\n",
       "total_pymnt_inv               0\n",
       "total_rec_prncp               0\n",
       "total_rec_int                 0\n",
       "total_rec_late_fee            0\n",
       "recoveries                    0\n",
       "collection_recovery_fee       0\n",
       "last_pymnt_d                 71\n",
       "last_pymnt_amnt               0\n",
       "last_credit_pull_d            2\n",
       "dtype: int64"
      ]
     },
     "execution_count": 53,
     "metadata": {},
     "output_type": "execute_result"
    }
   ],
   "source": [
    "df.isna().sum()"
   ]
  },
  {
   "cell_type": "markdown",
   "id": "300b24a0",
   "metadata": {},
   "source": [
    "#### <font color=\"asparagus\"> Low hanging fruits: <font>\n",
    "1. title \n",
    "2. revol_util\n",
    "3. last_pymnt_d\n",
    "4. last_credit_pull_d\n",
    "5. emp_length\n",
    "- Come back to emp_length later <font color=\"red\"> TO DO!"
   ]
  },
  {
   "cell_type": "markdown",
   "id": "d157d412",
   "metadata": {},
   "source": [
    "##### <font color=\"asparagus\"> $\\Rightarrow$ 1. *title*<font> \n",
    "- Only 11/39717 have missing values, we can impute using value of mode "
   ]
  },
  {
   "cell_type": "code",
   "execution_count": 54,
   "id": "3e27b9ab",
   "metadata": {},
   "outputs": [],
   "source": [
    "df.title.fillna(df.title.mode()[0], inplace=True)"
   ]
  },
  {
   "cell_type": "markdown",
   "id": "4c3166e7",
   "metadata": {},
   "source": [
    "##### <font color=\"asparagus\"> $\\Rightarrow$ 2. *revol_util*<font> \n",
    "- Only 50/39717 have missing values, we can impute using value of mode "
   ]
  },
  {
   "cell_type": "code",
   "execution_count": 55,
   "id": "7757105e",
   "metadata": {},
   "outputs": [],
   "source": [
    "df.revol_util.fillna(df.revol_util.mode()[0], inplace=True)"
   ]
  },
  {
   "cell_type": "markdown",
   "id": "41c07351",
   "metadata": {},
   "source": [
    "##### <font color=\"asparagus\"> $\\Rightarrow$ 3. *last_pymnt_d*<font> \n",
    "- Only 71/39717 have missing values, we can impute using value of mode "
   ]
  },
  {
   "cell_type": "code",
   "execution_count": 56,
   "id": "1e03c3c6",
   "metadata": {},
   "outputs": [],
   "source": [
    "df.last_pymnt_d.fillna(df.last_pymnt_d.mode()[0], inplace=True)"
   ]
  },
  {
   "cell_type": "markdown",
   "id": "6c456a44",
   "metadata": {},
   "source": [
    "##### <font color=\"asparagus\"> $\\Rightarrow$ 4. *last_credit_pull_d*<font> \n",
    "- Only 2/39717 have missing values, we can impute using value of mode "
   ]
  },
  {
   "cell_type": "code",
   "execution_count": 57,
   "id": "7ea43a57",
   "metadata": {},
   "outputs": [],
   "source": [
    "df.last_credit_pull_d.fillna(df.last_credit_pull_d.mode()[0], inplace=True)"
   ]
  },
  {
   "cell_type": "code",
   "execution_count": 152,
   "id": "118c4386",
   "metadata": {},
   "outputs": [
    {
     "data": {
      "text/plain": [
       "loan_amnt                     0\n",
       "funded_amnt                   0\n",
       "funded_amnt_inv               0\n",
       "term                          0\n",
       "int_rate                      0\n",
       "installment                   0\n",
       "grade                         0\n",
       "sub_grade                     0\n",
       "emp_title                  2459\n",
       "emp_length                 1075\n",
       "home_ownership                0\n",
       "annual_inc                    0\n",
       "verification_status           0\n",
       "issue_d                       0\n",
       "loan_status                   0\n",
       "purpose                       0\n",
       "title                         0\n",
       "zip_code                      0\n",
       "addr_state                    0\n",
       "dti                           0\n",
       "delinq_2yrs                   0\n",
       "earliest_cr_line              0\n",
       "inq_last_6mths                0\n",
       "open_acc                      0\n",
       "pub_rec                       0\n",
       "revol_bal                     0\n",
       "revol_util                    0\n",
       "total_acc                     0\n",
       "out_prncp                     0\n",
       "out_prncp_inv                 0\n",
       "total_pymnt                   0\n",
       "total_pymnt_inv               0\n",
       "total_rec_prncp               0\n",
       "total_rec_int                 0\n",
       "total_rec_late_fee            0\n",
       "recoveries                    0\n",
       "collection_recovery_fee       0\n",
       "last_pymnt_d                  0\n",
       "last_pymnt_amnt               0\n",
       "last_credit_pull_d            0\n",
       "dtype: int64"
      ]
     },
     "execution_count": 152,
     "metadata": {},
     "output_type": "execute_result"
    }
   ],
   "source": [
    "df.isna().sum()"
   ]
  },
  {
   "cell_type": "markdown",
   "id": "4bd79577",
   "metadata": {},
   "source": [
    "##### <font color=\"asparagus\"> $\\Rightarrow$ 5. *emp_length* <font>\n",
    "- Though it has more missing values than the above ones we just discussed 1075/39717, isn't much. This column is categorical, plus it seems the company has more 10+ experience borrowers. We can fill with mode"
   ]
  },
  {
   "cell_type": "code",
   "execution_count": 58,
   "id": "cfb34ab3",
   "metadata": {},
   "outputs": [
    {
     "data": {
      "text/plain": [
       "10+    8879\n",
       "< 1    4583\n",
       "2      4388\n",
       "3      4095\n",
       "4      3436\n",
       "5      3282\n",
       "1      3240\n",
       "6      2229\n",
       "7      1773\n",
       "8      1479\n",
       "9      1258\n",
       "Name: emp_length, dtype: Int64"
      ]
     },
     "execution_count": 58,
     "metadata": {},
     "output_type": "execute_result"
    }
   ],
   "source": [
    "df.emp_length.value_counts()"
   ]
  },
  {
   "cell_type": "code",
   "execution_count": 59,
   "id": "69a39a03",
   "metadata": {},
   "outputs": [],
   "source": [
    "df.emp_length.fillna(df.emp_length.mode()[0], inplace=True)"
   ]
  },
  {
   "cell_type": "markdown",
   "id": "f7227511",
   "metadata": {},
   "source": [
    "<font color=\"red\"> TO DO! collection_recovery_fee is 90% the same value... i.e. 0<br>\n",
    "Outliers removal<font>"
   ]
  },
  {
   "cell_type": "markdown",
   "id": "f6b73072",
   "metadata": {},
   "source": [
    "### <font color='skyblue'>  II.6. Correlation<font>"
   ]
  },
  {
   "cell_type": "markdown",
   "id": "b3fb8034",
   "metadata": {},
   "source": [
    "#### <font color=\"asparagus\"> *Need to create a heatmap of all the retained numeric variables and check the relationship* <font>"
   ]
  },
  {
   "cell_type": "code",
   "execution_count": 68,
   "id": "6e097920",
   "metadata": {},
   "outputs": [],
   "source": [
    "# Define the heatmap parameters\n",
    "pd.options.display.float_format = \"{:,.2f}\".format"
   ]
  },
  {
   "cell_type": "code",
   "execution_count": 69,
   "id": "1e46f8cd",
   "metadata": {},
   "outputs": [],
   "source": [
    "df_numeric = df.select_dtypes(include=np.number)"
   ]
  },
  {
   "cell_type": "code",
   "execution_count": 70,
   "id": "57f70554",
   "metadata": {},
   "outputs": [
    {
     "data": {
      "image/png": "[encoded data removed]",
      "text/plain": [
       "<Figure size 1440x1440 with 2 Axes>"
      ]
     },
     "metadata": {
      "needs_background": "light"
     },
     "output_type": "display_data"
    }
   ],
   "source": [
    "corr_mat = df_numeric.corr()\n",
    "\n",
    "# Mask the upper part of the heatmap\n",
    "mask = np.triu(np.ones_like(corr_mat, dtype=bool))\n",
    "\n",
    "# Choose the color map\n",
    "cmap = \"viridis\"\n",
    "\n",
    "corr_mat[(corr_mat < 0.1) & (corr_mat > -0.1)] = 0 # Easier to view, don't really care obout weak correlations\n",
    "# plot the heatmap\n",
    "plt.figure(figsize=(20,20))\n",
    "sns.heatmap(corr_mat, mask=mask, vmax=1.0, vmin=-1.0, linewidths=0.1,\n",
    "            annot_kws={\"size\": 8, \"color\": \"black\"}, square=True, cmap=cmap, annot=True)\n",
    "plt.show()"
   ]
  },
  {
   "cell_type": "markdown",
   "id": "cea65c11",
   "metadata": {},
   "source": [
    "#### <font color=\"asparagus\"> 1. We need to make a decision on these highly correlation variables.<font> \n",
    "#### <font color=\"asparagus\"> 2. No need to keep them all, rather, we can discard all but one and continue <font>"
   ]
  },
  {
   "cell_type": "markdown",
   "id": "a66cad34",
   "metadata": {},
   "source": [
    "##### Strengh of relationship\n",
    "\n",
    "* |r| < 0.3 $\\Rightarrow$ None or Very Weak\n",
    "* 0.3 < |r| < 0.5 $\\Rightarrow$ Weak\n",
    "* 0.5 < |r| < 0.7 $\\Rightarrow$ Moderate\n",
    "* |r| > 0.7 $\\Rightarrow$ Strong"
   ]
  },
  {
   "cell_type": "code",
   "execution_count": 71,
   "id": "1b4f7e65",
   "metadata": {},
   "outputs": [],
   "source": [
    "colsToDrop_fromCorr = [] # New list to maintain the columns we want to drop"
   ]
  },
  {
   "cell_type": "markdown",
   "id": "32d808c5",
   "metadata": {},
   "source": [
    "#### <font color=\"asparagus\"> $\\Rightarrow$ *Focusing on funded_amount, loan_amount, funded_amount_inv first* <font>\n",
    "1. loan_amnt: The listed amount of the loan applied for by the borrower. If at some point in time, the credit department reduces the loan amount, then it will be reflected in this value.\n",
    "2. funded_amnt: The total amount committed to that loan at that point in time.\n",
    "3. funded_amnt_inv: The total amount committed by investors for that loan at that point in time.<br>\n",
    "The correlation factor, r, is almost 1 for these guys\n",
    "    \n",
    "In short, a borrower approaches the company to ask for an amount, *loan_amnt*. The company agrees for a certain amount, *funded_amnt*. *funded_amnt_inv*: Sometimes, the lending club themselves step in and fund the amount. This is that. <br>\n",
    "$\\Rightarrow$ Conclusion: We can just keep *funded_amnt* and discard the rest. <br>Because *loan_amnt* will satisfy the condition:\n",
    "    *funded_amnt* <= *loan_amnt* \n",
    "\n",
    "    "
   ]
  },
  {
   "cell_type": "code",
   "execution_count": 72,
   "id": "8f5c43ed",
   "metadata": {},
   "outputs": [],
   "source": [
    "colsToDrop_fromCorr.append(\"loan_amnt\")\n",
    "colsToDrop_fromCorr.append(\"funded_amnt_inv\")"
   ]
  },
  {
   "cell_type": "markdown",
   "id": "c0a9150f",
   "metadata": {},
   "source": [
    "#### <font color=\"asparagus\"> $\\Rightarrow$ *Commenting on installment* <font>"
   ]
  },
  {
   "cell_type": "markdown",
   "id": "df4e3ca8",
   "metadata": {},
   "source": [
    "#### *installment* is the monthly payment owed by the borrower if the loan originates as per the data dictionary. <br>\n",
    "#### Again, r >0.9 with \"loan_amnt\", \"funded_amnt\", \"funded_amnt_inv\". <br>\n",
    "#### Therefore, *installment* can be dropped as well."
   ]
  },
  {
   "cell_type": "code",
   "execution_count": 73,
   "id": "821af1aa",
   "metadata": {},
   "outputs": [],
   "source": [
    "colsToDrop_fromCorr.append(\"installment\")"
   ]
  },
  {
   "cell_type": "markdown",
   "id": "d31a57fa",
   "metadata": {},
   "source": [
    "#### <font color=\"asparagus\"> $\\Rightarrow$ *Commenting on total_xx columns* <font>"
   ]
  },
  {
   "cell_type": "markdown",
   "id": "faa36713",
   "metadata": {},
   "source": [
    "#### <font color=\"asparagus\"> 1. total_pymnt: Payments received to date for total amount funded<font>\n",
    "#### <font color=\"asparagus\"> 2. total_pymnt_inv: Payments received to date for portion of total amount funded by investors<font>\n",
    "#### <font color=\"asparagus\"> 3. total_rec_prncp: Principal received to date<font>\n",
    "#### <font color=\"asparagus\"> 4. total_rec_int: Interest received to date<font> \n",
    "#### *Side note*: These columns also show a high correlation with *\"loan_amnt\", \"funded_amnt\", \"funded_amnt_inv\"* (~0.75)<br>\n",
    "*Conclusion*: We can hold on to *total_pymnt* and discard remaining. By the way, *funded_amnt* is highly correlated with *total_pymnt* as well"
   ]
  },
  {
   "cell_type": "code",
   "execution_count": 74,
   "id": "4b1d2302",
   "metadata": {},
   "outputs": [],
   "source": [
    "colsToDrop_fromCorr.append(\"total_pymnt_inv\")\n",
    "colsToDrop_fromCorr.append(\"total_rec_prncp\")\n",
    "colsToDrop_fromCorr.append(\"total_rec_int\")"
   ]
  },
  {
   "cell_type": "code",
   "execution_count": 75,
   "id": "ef6533d7",
   "metadata": {},
   "outputs": [
    {
     "data": {
      "text/plain": [
       "['loan_amnt',\n",
       " 'funded_amnt_inv',\n",
       " 'installment',\n",
       " 'total_pymnt_inv',\n",
       " 'total_rec_prncp',\n",
       " 'total_rec_int']"
      ]
     },
     "execution_count": 75,
     "metadata": {},
     "output_type": "execute_result"
    }
   ],
   "source": [
    "colsToDrop_fromCorr\n"
   ]
  },
  {
   "cell_type": "markdown",
   "id": "e284e307",
   "metadata": {},
   "source": [
    "#### <font color=\"asparagus\"> $\\Rightarrow$ *Commenting on (total_acc, open_acc): r = 0.69 and (collection_recovery_fee, recoveries)*: r = 0.8 <font>"
   ]
  },
  {
   "cell_type": "markdown",
   "id": "2c1d1f11",
   "metadata": {},
   "source": [
    "#### 1. total_acc: The total number of credit lines currently in the borrower's credit file\n",
    "#### 2. open_acc: The number of open credit lines in the borrower's credit file.\n",
    "\n",
    "$\\Rightarrow$ Makes sense that they are highly correlated. I think we can just **keep the number of open credit lines** and **drop the total**, because **total will include open and closed**. **We are only interested in the ones that are currently running**(this is where we can find whether the borrower is about to default or not)"
   ]
  },
  {
   "cell_type": "code",
   "execution_count": 76,
   "id": "acdd063c",
   "metadata": {},
   "outputs": [],
   "source": [
    "colsToDrop_fromCorr.append(\"total_acc\")"
   ]
  },
  {
   "cell_type": "markdown",
   "id": "7bffd4b8",
   "metadata": {},
   "source": [
    "#### 1. recoveries: post charge off gross recovery\n",
    "#### 2. collection_recovery_fee: post charge off collection fee<br>\n",
    "$\\Rightarrow$ Both of these quantities are concerned with post charge off scenarios. Most of the values are 0 for both of them as well. I think it is safe to drop recoveries"
   ]
  },
  {
   "cell_type": "code",
   "execution_count": 77,
   "id": "6e4c6f32",
   "metadata": {},
   "outputs": [],
   "source": [
    "colsToDrop_fromCorr.append(\"recoveries\")"
   ]
  },
  {
   "cell_type": "code",
   "execution_count": 78,
   "id": "30c97102",
   "metadata": {
    "scrolled": true
   },
   "outputs": [
    {
     "data": {
      "text/plain": [
       "['loan_amnt',\n",
       " 'funded_amnt_inv',\n",
       " 'installment',\n",
       " 'total_pymnt_inv',\n",
       " 'total_rec_prncp',\n",
       " 'total_rec_int',\n",
       " 'total_acc',\n",
       " 'recoveries']"
      ]
     },
     "execution_count": 78,
     "metadata": {},
     "output_type": "execute_result"
    }
   ],
   "source": [
    "colsToDrop_fromCorr"
   ]
  },
  {
   "cell_type": "code",
   "execution_count": 79,
   "id": "c8b8ccc7",
   "metadata": {},
   "outputs": [],
   "source": [
    "df.drop(colsToDrop_fromCorr,axis=1,inplace=True)"
   ]
  },
  {
   "cell_type": "code",
   "execution_count": 80,
   "id": "d3d5bf80",
   "metadata": {},
   "outputs": [
    {
     "name": "stdout",
     "output_type": "stream",
     "text": [
      "<class 'pandas.core.frame.DataFrame'>\n",
      "RangeIndex: 39717 entries, 0 to 39716\n",
      "Data columns (total 32 columns):\n",
      " #   Column                   Non-Null Count  Dtype  \n",
      "---  ------                   --------------  -----  \n",
      " 0   funded_amnt              39717 non-null  int64  \n",
      " 1   term                     39717 non-null  int32  \n",
      " 2   int_rate                 39717 non-null  float64\n",
      " 3   grade                    39717 non-null  string \n",
      " 4   sub_grade                39717 non-null  string \n",
      " 5   emp_title                37258 non-null  string \n",
      " 6   emp_length               39717 non-null  string \n",
      " 7   home_ownership           39717 non-null  string \n",
      " 8   annual_inc               39717 non-null  float64\n",
      " 9   verification_status      39717 non-null  string \n",
      " 10  issue_d                  39717 non-null  string \n",
      " 11  loan_status              39717 non-null  string \n",
      " 12  purpose                  39717 non-null  string \n",
      " 13  title                    39717 non-null  string \n",
      " 14  zip_code                 39717 non-null  string \n",
      " 15  addr_state               39717 non-null  string \n",
      " 16  dti                      39717 non-null  float64\n",
      " 17  delinq_2yrs              39717 non-null  int64  \n",
      " 18  earliest_cr_line         39717 non-null  string \n",
      " 19  inq_last_6mths           39717 non-null  int64  \n",
      " 20  open_acc                 39717 non-null  int64  \n",
      " 21  pub_rec                  39717 non-null  int64  \n",
      " 22  revol_bal                39717 non-null  int64  \n",
      " 23  revol_util               39717 non-null  float64\n",
      " 24  out_prncp                39717 non-null  float64\n",
      " 25  out_prncp_inv            39717 non-null  float64\n",
      " 26  total_pymnt              39717 non-null  float64\n",
      " 27  total_rec_late_fee       39717 non-null  float64\n",
      " 28  collection_recovery_fee  39717 non-null  float64\n",
      " 29  last_pymnt_d             39717 non-null  string \n",
      " 30  last_pymnt_amnt          39717 non-null  float64\n",
      " 31  last_credit_pull_d       39717 non-null  string \n",
      "dtypes: float64(10), int32(1), int64(6), string(15)\n",
      "memory usage: 9.5 MB\n"
     ]
    }
   ],
   "source": [
    "df.info()"
   ]
  },
  {
   "cell_type": "code",
   "execution_count": 81,
   "id": "a795db84",
   "metadata": {},
   "outputs": [],
   "source": [
    "nNoOfCols = df.shape[1]"
   ]
  },
  {
   "cell_type": "code",
   "execution_count": 82,
   "id": "9139bb6a",
   "metadata": {},
   "outputs": [
    {
     "data": {
      "text/plain": [
       "32"
      ]
     },
     "execution_count": 82,
     "metadata": {},
     "output_type": "execute_result"
    }
   ],
   "source": [
    "nNoOfCols"
   ]
  },
  {
   "cell_type": "markdown",
   "id": "c88c813a",
   "metadata": {},
   "source": [
    "### <font color='skyblue'>  II.7. Outlier Detection<font>\n",
    "1. Box Plots<br>\n",
    "2. Mahalanobis Distance\n",
    "\n",
    "When describing relationship between two variables, correlations is necessary, but not sufficient. More plots will help"
   ]
  },
  {
   "cell_type": "markdown",
   "id": "9fc9d275",
   "metadata": {},
   "source": [
    "#### <font color=\"asparagus\"> *Sequence*:<font>\n",
    "$\\Rightarrow$ <font color=\"asparagus\"> Boxplot first then  \n",
    "$\\Rightarrow$ <font color=\"asparagus\">  I'm gonnna calculate the IQRs for every column and store the locations of every row that lies outside the 1.5IQR range"
   ]
  },
  {
   "cell_type": "markdown",
   "id": "24b887f0",
   "metadata": {},
   "source": [
    "### <font color='skyblue'>  II.7.1. Box Plots<font>"
   ]
  },
  {
   "cell_type": "code",
   "execution_count": 83,
   "id": "da85b4d3",
   "metadata": {},
   "outputs": [],
   "source": [
    "df_numeric = df.select_dtypes(include=np.number)"
   ]
  },
  {
   "cell_type": "code",
   "execution_count": null,
   "id": "264da87c",
   "metadata": {},
   "outputs": [],
   "source": []
  },
  {
   "cell_type": "code",
   "execution_count": 90,
   "id": "eb13d8a0",
   "metadata": {},
   "outputs": [
    {
     "data": {
      "image/png": "[encoded data removed]",
      "text/plain": [
       "<Figure size 720x432 with 1 Axes>"
      ]
     },
     "metadata": {
      "needs_background": "light"
     },
     "output_type": "display_data"
    },
    {
     "data": {
      "image/png": "[encoded data removed]",
      "text/plain": [
       "<Figure size 720x432 with 1 Axes>"
      ]
     },
     "metadata": {
      "needs_background": "light"
     },
     "output_type": "display_data"
    },
    {
     "data": {
      "image/png": "[encoded data removed]",
      "text/plain": [
       "<Figure size 720x432 with 1 Axes>"
      ]
     },
     "metadata": {
      "needs_background": "light"
     },
     "output_type": "display_data"
    },
    {
     "data": {
      "image/png": "[encoded data removed]",
      "text/plain": [
       "<Figure size 720x432 with 1 Axes>"
      ]
     },
     "metadata": {
      "needs_background": "light"
     },
     "output_type": "display_data"
    },
    {
     "data": {
      "image/png": "[encoded data removed]",
      "text/plain": [
       "<Figure size 720x432 with 1 Axes>"
      ]
     },
     "metadata": {
      "needs_background": "light"
     },
     "output_type": "display_data"
    },
    {
     "data": {
      "image/png": "[encoded data removed]",
      "text/plain": [
       "<Figure size 720x432 with 1 Axes>"
      ]
     },
     "metadata": {
      "needs_background": "light"
     },
     "output_type": "display_data"
    },
    {
     "data": {
      "image/png": "[encoded data removed]",
      "text/plain": [
       "<Figure size 720x432 with 1 Axes>"
      ]
     },
     "metadata": {
      "needs_background": "light"
     },
     "output_type": "display_data"
    },
    {
     "data": {
      "image/png": "[encoded data removed]",
      "text/plain": [
       "<Figure size 720x432 with 1 Axes>"
      ]
     },
     "metadata": {
      "needs_background": "light"
     },
     "output_type": "display_data"
    },
    {
     "data": {
      "image/png": "[encoded data removed]",
      "text/plain": [
       "<Figure size 720x432 with 1 Axes>"
      ]
     },
     "metadata": {
      "needs_background": "light"
     },
     "output_type": "display_data"
    },
    {
     "data": {
      "image/png": "[encoded data removed]",
      "text/plain": [
       "<Figure size 720x432 with 1 Axes>"
      ]
     },
     "metadata": {
      "needs_background": "light"
     },
     "output_type": "display_data"
    },
    {
     "data": {
      "image/png": "[encoded data removed]",
      "text/plain": [
       "<Figure size 720x432 with 1 Axes>"
      ]
     },
     "metadata": {
      "needs_background": "light"
     },
     "output_type": "display_data"
    },
    {
     "data": {
      "image/png": "[encoded data removed]",
      "text/plain": [
       "<Figure size 720x432 with 1 Axes>"
      ]
     },
     "metadata": {
      "needs_background": "light"
     },
     "output_type": "display_data"
    },
    {
     "data": {
      "image/png": "[encoded data removed]",
      "text/plain": [
       "<Figure size 720x432 with 1 Axes>"
      ]
     },
     "metadata": {
      "needs_background": "light"
     },
     "output_type": "display_data"
    },
    {
     "data": {
      "image/png": "[encoded data removed]",
      "text/plain": [
       "<Figure size 720x432 with 1 Axes>"
      ]
     },
     "metadata": {
      "needs_background": "light"
     },
     "output_type": "display_data"
    },
    {
     "data": {
      "image/png": "[encoded data removed]",
      "text/plain": [
       "<Figure size 720x432 with 1 Axes>"
      ]
     },
     "metadata": {
      "needs_background": "light"
     },
     "output_type": "display_data"
    },
    {
     "data": {
      "image/png": "[encoded data removed]",
      "text/plain": [
       "<Figure size 720x432 with 1 Axes>"
      ]
     },
     "metadata": {
      "needs_background": "light"
     },
     "output_type": "display_data"
    },
    {
     "data": {
      "image/png": "[encoded data removed]",
      "text/plain": [
       "<Figure size 720x432 with 1 Axes>"
      ]
     },
     "metadata": {
      "needs_background": "light"
     },
     "output_type": "display_data"
    }
   ],
   "source": [
    "#fig, axes = plt.subplots(7,2,figsize=(20,30))\n",
    "for col in df_numeric.columns:\n",
    "    plt.figure(figsize=(10,6))\n",
    "    sns.boxplot(x=\"loan_status\", y=col,\n",
    "                data=df)\n",
    "    plt.show()\n",
    "    "
   ]
  },
  {
   "cell_type": "markdown",
   "id": "81f5c57b",
   "metadata": {},
   "source": [
    "#### <font color=\"asparagus\"> *Observations and Comments*:<font> \n",
    "$\\Rightarrow$ <font color=\"asparagus\"> There are quite a few columns that seem to be heavily skewed towards one value. Eg: total_rec_late_fee, pub_rec, delinq_2yrs, annual_inc<br>\n",
    "$\\Rightarrow$ <font color=\"asparagus\"> An IQR analysis will help us get a sense of the number of outliers "
   ]
  },
  {
   "cell_type": "code",
   "execution_count": 110,
   "id": "98383295",
   "metadata": {},
   "outputs": [],
   "source": [
    "column_quantile_info ={}\n",
    "for col in df_numeric.columns:\n",
    "    Q1 = np.quantile(df[col], 0.25)\n",
    "    Q2 = np.quantile(df[col], 0.5)\n",
    "    Q3 = np.quantile(df[col], 0.75)\n",
    "    Q4 = np.quantile(df[col], 0.9)\n",
    "    Q5 = np.quantile(df[col], 0.1)\n",
    "    IQR = Q3 - Q1\n",
    "    column_quantile_info[col] = [Q1, Q2, Q3, IQR, Q3 + 1.5*IQR, Q1 - 1.5*IQR, Q4, Q5]"
   ]
  },
  {
   "cell_type": "code",
   "execution_count": 111,
   "id": "47eb42e6",
   "metadata": {},
   "outputs": [
    {
     "data": {
      "text/plain": [
       "8"
      ]
     },
     "execution_count": 111,
     "metadata": {},
     "output_type": "execute_result"
    }
   ],
   "source": [
    "len(column_quantile_info[col])"
   ]
  },
  {
   "cell_type": "code",
   "execution_count": 100,
   "id": "dd239291",
   "metadata": {},
   "outputs": [],
   "source": [
    "outlier_in_every_column = {}"
   ]
  },
  {
   "cell_type": "code",
   "execution_count": 144,
   "id": "62890d57",
   "metadata": {},
   "outputs": [
    {
     "name": "stdout",
     "output_type": "stream",
     "text": [
      "(array([   31,    51,    80, ..., 39583, 39584, 39696], dtype=int64),)\n",
      "(array([], dtype=int64),)\n",
      "(array([    7,     8,    42, ..., 39039, 39182, 39370], dtype=int64),)\n",
      "(array([   74,    80,    92, ..., 39706, 39707, 39715], dtype=int64),)\n",
      "(array([    0,     6,    20, ..., 39584, 39591, 39610], dtype=int64),)\n",
      "(array([   18,    27,   148, ..., 39612, 39684, 39692], dtype=int64),)\n",
      "(array([    1,     5,    20, ..., 39671, 39687, 39709], dtype=int64),)\n",
      "(array([   17,    46,    60, ..., 39698, 39707, 39715], dtype=int64),)\n",
      "(array([   66,    70,    77, ..., 39666, 39680, 39709], dtype=int64),)\n",
      "(array([   21,    42,    46, ..., 39707, 39711, 39715], dtype=int64),)\n",
      "(array([    2,    12,    21, ..., 39620, 39687, 39691], dtype=int64),)\n",
      "(array([    4,    32,    39, ..., 16361, 16609, 18215], dtype=int64),)\n",
      "(array([    4,    32,    39, ..., 16361, 16609, 18215], dtype=int64),)\n",
      "(array([   20,    31,    51, ..., 39583, 39631, 39696], dtype=int64),)\n",
      "(array([    3,    18,    50, ..., 39668, 39681, 39684], dtype=int64),)\n",
      "(array([    1,     8,     9, ..., 39666, 39667, 39678], dtype=int64),)\n",
      "(array([   31,    48,    56, ..., 39654, 39656, 39690], dtype=int64),)\n"
     ]
    }
   ],
   "source": [
    "for col in df_numeric.columns:\n",
    "    print((np.where(df[col] > column_quantile_info[col][6])))"
   ]
  },
  {
   "cell_type": "code",
   "execution_count": 142,
   "id": "cf14da23",
   "metadata": {},
   "outputs": [
    {
     "data": {
      "text/plain": [
       "{'funded_amnt': [1, 1],\n",
       " 'term': [1, 1],\n",
       " 'int_rate': [1, 1],\n",
       " 'annual_inc': [1, 1],\n",
       " 'dti': [1, 1],\n",
       " 'delinq_2yrs': [1, 1],\n",
       " 'inq_last_6mths': [1, 1],\n",
       " 'open_acc': [1, 1],\n",
       " 'pub_rec': [1, 1],\n",
       " 'revol_bal': [1, 1],\n",
       " 'revol_util': [1, 1],\n",
       " 'out_prncp': [1, 1],\n",
       " 'out_prncp_inv': [1, 1],\n",
       " 'total_pymnt': [1, 1],\n",
       " 'total_rec_late_fee': [1, 1],\n",
       " 'collection_recovery_fee': [1, 1],\n",
       " 'last_pymnt_amnt': [1, 1]}"
      ]
     },
     "execution_count": 142,
     "metadata": {},
     "output_type": "execute_result"
    }
   ],
   "source": [
    "outlier_in_every_column"
   ]
  },
  {
   "cell_type": "code",
   "execution_count": 139,
   "id": "54cdf8ae",
   "metadata": {},
   "outputs": [],
   "source": []
  },
  {
   "cell_type": "code",
   "execution_count": 140,
   "id": "9b444c5d",
   "metadata": {},
   "outputs": [
    {
     "data": {
      "text/plain": [
       "3759"
      ]
     },
     "execution_count": 140,
     "metadata": {},
     "output_type": "execute_result"
    }
   ],
   "source": []
  },
  {
   "cell_type": "code",
   "execution_count": 122,
   "id": "78d234c4",
   "metadata": {
    "scrolled": true
   },
   "outputs": [
    {
     "data": {
      "text/plain": [
       "(array([    1,     2,     4, ..., 39703, 39704, 39712], dtype=int64),)"
      ]
     },
     "execution_count": 122,
     "metadata": {},
     "output_type": "execute_result"
    }
   ],
   "source": [
    "(outlier_in_every_column[\"funded_amnt\"][1])"
   ]
  },
  {
   "cell_type": "code",
   "execution_count": 104,
   "id": "90b6c83f",
   "metadata": {},
   "outputs": [
    {
     "data": {
      "text/plain": [
       "(31825, 29400.0)"
      ]
     },
     "execution_count": 104,
     "metadata": {},
     "output_type": "execute_result"
    }
   ],
   "source": [
    "df.funded_amnt.iloc[31], column_quantile_info[\"funded_amnt\"][4]"
   ]
  },
  {
   "cell_type": "code",
   "execution_count": 105,
   "id": "d840f21e",
   "metadata": {},
   "outputs": [
    {
     "data": {
      "text/plain": [
       "(28, 21.0)"
      ]
     },
     "execution_count": 105,
     "metadata": {},
     "output_type": "execute_result"
    }
   ],
   "source": [
    "df.open_acc.iloc[39633], column_quantile_info[\"open_acc\"][4]"
   ]
  },
  {
   "cell_type": "code",
   "execution_count": 102,
   "id": "bb15fff5",
   "metadata": {},
   "outputs": [
    {
     "data": {
      "text/plain": [
       "{'funded_amnt': (array([   31,   128,   185, ..., 19825, 19838, 19857], dtype=int64),),\n",
       " 'term': (array([], dtype=int64),),\n",
       " 'int_rate': (array([  223,   540,   601,   616,   733,  1156,  1199,  1619,  1691,\n",
       "          1799,  1839,  2075,  2447,  2592,  2603,  2749,  2801,  3006,\n",
       "          3017,  3094,  3298,  3308,  3374,  3655,  4099,  4214,  4314,\n",
       "          4408,  4652,  4873,  4913,  5180,  5267,  5284,  5469,  5472,\n",
       "          5479,  5570,  5603,  5742,  5782,  5820,  5964,  5966,  6243,\n",
       "          6338,  6456,  6839,  7446,  7458,  7466,  7479,  7764,  7903,\n",
       "          7904,  7910,  8184,  8305,  9816,  9854, 10317, 10380, 10533,\n",
       "         10553, 10661, 11435, 12278, 13136, 13138, 13371, 13403, 13470,\n",
       "         13486, 13489, 13492, 14089, 14600, 15414], dtype=int64),),\n",
       " 'annual_inc': (array([   74,    80,   170, ..., 39706, 39707, 39715], dtype=int64),),\n",
       " 'dti': (array([], dtype=int64),),\n",
       " 'delinq_2yrs': (array([   18,    27,    28, ..., 39703, 39713, 39716], dtype=int64),),\n",
       " 'inq_last_6mths': (array([    1,     5,    20, ..., 39671, 39687, 39709], dtype=int64),),\n",
       " 'open_acc': (array([  250,   601,   760,   916,  1081,  1140,  1304,  1324,  1435,\n",
       "          1506,  1697,  1797,  2023,  2043,  2310,  2336,  2561,  2689,\n",
       "          2801,  2825,  2828,  2858,  2899,  2918,  2956,  2994,  3076,\n",
       "          3258,  3304,  3422,  3553,  3595,  3655,  3674,  3730,  3746,\n",
       "          3749,  3806,  3841,  3877,  3978,  4039,  4044,  4096,  4130,\n",
       "          4138,  4220,  4244,  4284,  4370,  4427,  4548,  4565,  4574,\n",
       "          4629,  4655,  4661,  4792,  4830,  4922,  5236,  5381,  5409,\n",
       "          5438,  5632,  5660,  5696,  5697,  5776,  5820,  5822,  6069,\n",
       "          6244,  6354,  6375,  6456,  6576,  6762,  6845,  6878,  6958,\n",
       "          6965,  7166,  7324,  7359,  7394,  7458,  7468,  7511,  7593,\n",
       "          7646,  7795,  7796,  7865,  7910,  7922,  7997,  8144,  8157,\n",
       "          8233,  8305,  8336,  8384,  8415,  8643,  8660,  8838,  8925,\n",
       "          8998,  9180,  9230,  9256,  9277,  9299,  9317,  9464,  9526,\n",
       "          9854,  9903, 10014, 10088, 10306, 10389, 10436, 10502, 10530,\n",
       "         10533, 10557, 10573, 10722, 10780, 10785, 10796, 10845, 11106,\n",
       "         11308, 11326, 11333, 11403, 11406, 11618, 11667, 11793, 11850,\n",
       "         11858, 11912, 11917, 11951, 12020, 12052, 12239, 12262, 12318,\n",
       "         12346, 12458, 12607, 12626, 12631, 12637, 12688, 12718, 12747,\n",
       "         12912, 12936, 13111, 13251, 13345, 13372, 13486, 13531, 13594,\n",
       "         13688, 13806, 13839, 13874, 13994, 14004, 14054, 14148, 14217,\n",
       "         14271, 14501, 14575, 14722, 14747, 14853, 14931, 15061, 15188,\n",
       "         15214, 15229, 15291, 15404, 15406, 15449, 15455, 15630, 15666,\n",
       "         15675, 15948, 16016, 16040, 16183, 16255, 16407, 16417, 16503,\n",
       "         16558, 16602, 16655, 16656, 16727, 16834, 16875, 16930, 16970,\n",
       "         17040, 17230, 17257, 17401, 17435, 17511, 17586, 17591, 17639,\n",
       "         17771, 17861, 17943, 17991, 18134, 18198, 18263, 18434, 18555,\n",
       "         18597, 18825, 18927, 19006, 19187, 19207, 19233, 19239, 19248,\n",
       "         19257, 19340, 19458, 19541, 19599, 19661, 19669, 19673, 19692,\n",
       "         19720, 19866, 19920, 20001, 20055, 20090, 20175, 20217, 20507,\n",
       "         20638, 20737, 20756, 20811, 20822, 20852, 20875, 20947, 21283,\n",
       "         21286, 21372, 21404, 21742, 21820, 21994, 22018, 22092, 22200,\n",
       "         22208, 22313, 22611, 22660, 22678, 22700, 22891, 22931, 22987,\n",
       "         23015, 23187, 23206, 23268, 23326, 23445, 23532, 23661, 23753,\n",
       "         23758, 24067, 24364, 24638, 24698, 24786, 25254, 25343, 25391,\n",
       "         25548, 25676, 25696, 25719, 25915, 26038, 26171, 26203, 26222,\n",
       "         26281, 26702, 26729, 26798, 26823, 26889, 26917, 26995, 27004,\n",
       "         27015, 27088, 27102, 27326, 27362, 27366, 27372, 27385, 27512,\n",
       "         27609, 27884, 27972, 28052, 28077, 28140, 28236, 28320, 28630,\n",
       "         28774, 28831, 28910, 28972, 29042, 29273, 29291, 29332, 29431,\n",
       "         29465, 29508, 29542, 29543, 29584, 29604, 29634, 29690, 29791,\n",
       "         29813, 29865, 29877, 29901, 29914, 29961, 30004, 30072, 30328,\n",
       "         30508, 30533, 30616, 30672, 30723, 30774, 30782, 30785, 30961,\n",
       "         31120, 31123, 31274, 31340, 31394, 31498, 31518, 31521, 31538,\n",
       "         31660, 31720, 31748, 31834, 31871, 32101, 32103, 32121, 32199,\n",
       "         32203, 32257, 32328, 32466, 32593, 32630, 32657, 32703, 32721,\n",
       "         32957, 33098, 33445, 33452, 33454, 33495, 33500, 33506, 33726,\n",
       "         33745, 33786, 33966, 34112, 34164, 34195, 34246, 34280, 34297,\n",
       "         34403, 34451, 34453, 34537, 34782, 34783, 34788, 34866, 34931,\n",
       "         34993, 35049, 35137, 35160, 35229, 35253, 35284, 35289, 35327,\n",
       "         35419, 35435, 35440, 35475, 35576, 35611, 35623, 35630, 35681,\n",
       "         35812, 35815, 35823, 36108, 36167, 36276, 36422, 36502, 36521,\n",
       "         36537, 36648, 36679, 36794, 36989, 37026, 37112, 37121, 37267,\n",
       "         37483, 37550, 37606, 37619, 37700, 37897, 37938, 37971, 37989,\n",
       "         37995, 38048, 38098, 38100, 38184, 38247, 38264, 38276, 38310,\n",
       "         38364, 38454, 38461, 38616, 38679, 38722, 38741, 38782, 38982,\n",
       "         39052, 39066, 39071, 39124, 39136, 39239, 39245, 39295, 39301,\n",
       "         39306, 39357, 39375, 39420, 39427, 39454, 39484, 39538, 39579,\n",
       "         39588, 39633], dtype=int64),),\n",
       " 'pub_rec': (array([   66,    70,    77, ..., 39666, 39680, 39709], dtype=int64),),\n",
       " 'revol_bal': (array([   42,    46,    74, ..., 39707, 39711, 39715], dtype=int64),),\n",
       " 'revol_util': (array([], dtype=int64),),\n",
       " 'out_prncp': (array([    4,    32,    39, ..., 16361, 16609, 18215], dtype=int64),),\n",
       " 'out_prncp_inv': (array([    4,    32,    39, ..., 16361, 16609, 18215], dtype=int64),),\n",
       " 'total_pymnt': (array([   31,   128,   185, ..., 31771, 32513, 33013], dtype=int64),),\n",
       " 'total_rec_late_fee': (array([    3,    18,    50, ..., 39668, 39681, 39684], dtype=int64),),\n",
       " 'collection_recovery_fee': (array([    1,     8,     9, ..., 39666, 39667, 39678], dtype=int64),),\n",
       " 'last_pymnt_amnt': (array([   19,    31,    48, ..., 39654, 39656, 39690], dtype=int64),)}"
      ]
     },
     "execution_count": 102,
     "metadata": {},
     "output_type": "execute_result"
    }
   ],
   "source": [
    "outlier_in_every_column"
   ]
  },
  {
   "cell_type": "markdown",
   "id": "7e4a4bb5",
   "metadata": {},
   "source": [
    "### Some segmented analysis and bivariate analysis\n",
    "* Some groupby and pivot tables needed"
   ]
  },
  {
   "cell_type": "code",
   "execution_count": null,
   "id": "7e33e407",
   "metadata": {},
   "outputs": [],
   "source": [
    "df_numeric.info()"
   ]
  },
  {
   "cell_type": "markdown",
   "id": "b8a2110d",
   "metadata": {},
   "source": [
    "### Seeing how the table looks like when we group by loan status with aggfunc=mean"
   ]
  },
  {
   "cell_type": "code",
   "execution_count": null,
   "id": "249303b6",
   "metadata": {},
   "outputs": [],
   "source": [
    "df_bak.groupby(by=\"loan_status\").median()"
   ]
  },
  {
   "cell_type": "markdown",
   "id": "236d79de",
   "metadata": {},
   "source": [
    "#### I. Charged Off:\n",
    "1. Cannot comment much on the funded_amnt. There doesn't seem to be a pattern. It roughly hovers around 10k.\n",
    "2. int_rate is second highest. But not sure if we can obtain anything beyond that.\n",
    "3. The annual income is coming out to be the lowest among the three loan_status' categories. But not by much. \n",
    "4. The total_pymnt column understandably has lowest among the categories indicating that the borrower has not been making enough payments. This will observed for all the \"totalxx\" columns, since they are highly correlated as we saw earlier.\n",
    "5. recoveries: This is applicable to only charged off borrowers. Hence we see non-zero number under charged off cat, and zeros in the other categories. \n",
    "6. last_pymnt_amnt: Is the lowest for this category. \n",
    "7. Also the median termYrs is 3.\n",
    "\n",
    "#### II. Current:\n",
    "1. The following params are the highest among the three:\n",
    "- funded_amnt, int_rate, installment, annual_inc\n",
    "- dti: This will be high here since it is the ratio calculated using the borrower’s total monthly debt payments on the total debt obligations, excluding mortgage and the requested LC loan, divided by the borrower’s self-reported monthly income.\n",
    "2. The outstanding principal for portion of total amount funded by investors is non-zero only for this category.\n",
    "3. \"total\" columns are the highest again\n",
    "4. The last payment amount is not that high. Right in the center\n",
    "5. Annual inc: higest of the three. Makes sense since high salaried persons can afford a loan\n",
    "\n",
    "#### III. Charged Off:\n",
    "1. last_pymnt_amount highest among the three\n",
    "2. total columns right in the center of the three cats\n",
    "3. Annual inc: second highest\n",
    "4. funded_amnt: Lowest\n",
    "5. int_rate: lowest"
   ]
  },
  {
   "cell_type": "code",
   "execution_count": null,
   "id": "122900b7",
   "metadata": {},
   "outputs": [],
   "source": [
    "cat_cols"
   ]
  },
  {
   "cell_type": "markdown",
   "id": "1527c987",
   "metadata": {},
   "source": [
    "### Some pivot tables.\n",
    "> looking at grade wise pivots. values will still be funded_amount"
   ]
  },
  {
   "cell_type": "code",
   "execution_count": null,
   "id": "2f4504a5",
   "metadata": {},
   "outputs": [],
   "source": [
    "df_bak.pivot_table(index=\"grade\",columns=[\"loan_status\"], values=\"funded_amnt\", aggfunc=\"median\")"
   ]
  },
  {
   "cell_type": "markdown",
   "id": "c114b464",
   "metadata": {},
   "source": [
    "### It is evident from the table below that worse the credit rating of a person, more money they will borrow. \n",
    "* Grade G's borrowed amount ~18-20k.\n",
    "* Grade A's borrowed amount ~ 7.5k to 10k.\n",
    "- May be people with credit ratings live a more risky life? : )"
   ]
  },
  {
   "cell_type": "code",
   "execution_count": null,
   "id": "33dd24f9",
   "metadata": {},
   "outputs": [],
   "source": [
    "df_bak.pivot_table(index=\"grade\",columns=[\"loan_status\"], values=\"funded_amnt\", aggfunc=\"mean\")"
   ]
  },
  {
   "cell_type": "markdown",
   "id": "60b444dc",
   "metadata": {},
   "source": [
    "### Let's get some numbers\n",
    "1. How many people of a certain grade borrowed\n",
    "2. How many of them defaulted, how many are currently paying/have fully paid"
   ]
  },
  {
   "cell_type": "markdown",
   "id": "82498277",
   "metadata": {},
   "source": [
    "### Analyzing charged off borrowers alone. \n",
    "\n"
   ]
  },
  {
   "cell_type": "code",
   "execution_count": null,
   "id": "176551a4",
   "metadata": {},
   "outputs": [],
   "source": [
    "df_chargedOff = df_bak[df_bak[\"loan_status\"] == \"Charged Off\"].groupby(by=\"grade\").size()"
   ]
  },
  {
   "cell_type": "code",
   "execution_count": null,
   "id": "6c23f666",
   "metadata": {},
   "outputs": [],
   "source": [
    "df_chargedOff"
   ]
  },
  {
   "cell_type": "code",
   "execution_count": null,
   "id": "457930ce",
   "metadata": {},
   "outputs": [],
   "source": [
    "total_charged_off = []\n",
    "for i in range(df_chargedOff.shape[0]):\n",
    "    total_charged_off.append(df_chargedOff[i])"
   ]
  },
  {
   "cell_type": "code",
   "execution_count": null,
   "id": "00ec128c",
   "metadata": {},
   "outputs": [],
   "source": [
    "total_charged_off"
   ]
  },
  {
   "cell_type": "code",
   "execution_count": null,
   "id": "c5aad66e",
   "metadata": {},
   "outputs": [],
   "source": [
    "df_current = df_bak[df_bak[\"loan_status\"] == \"Current\"].groupby(by=\"grade\").size()"
   ]
  },
  {
   "cell_type": "code",
   "execution_count": null,
   "id": "64c32cfa",
   "metadata": {},
   "outputs": [],
   "source": [
    "df_current"
   ]
  },
  {
   "cell_type": "code",
   "execution_count": null,
   "id": "fab52016",
   "metadata": {},
   "outputs": [],
   "source": [
    "total_current = []\n",
    "for i in range(df_current.shape[0]):\n",
    "    total_current.append(df_current[i])"
   ]
  },
  {
   "cell_type": "code",
   "execution_count": null,
   "id": "ddccb559",
   "metadata": {},
   "outputs": [],
   "source": [
    "df_fullyPaid = df_bak[df_bak[\"loan_status\"] == \"Fully Paid\"].groupby(by=\"grade\").size()"
   ]
  },
  {
   "cell_type": "code",
   "execution_count": null,
   "id": "3eabb922",
   "metadata": {},
   "outputs": [],
   "source": [
    "df_fullyPaid"
   ]
  },
  {
   "cell_type": "code",
   "execution_count": null,
   "id": "dc40ae3b",
   "metadata": {},
   "outputs": [],
   "source": [
    "total_fullyPaid = []\n",
    "for i in range(df_fullyPaid.shape[0]):\n",
    "    total_fullyPaid.append(df_fullyPaid[i])"
   ]
  },
  {
   "cell_type": "code",
   "execution_count": null,
   "id": "e3146853",
   "metadata": {},
   "outputs": [],
   "source": [
    "df_totalPeopleGradeWise = df_bak.groupby(by=\"grade\").size()"
   ]
  },
  {
   "cell_type": "code",
   "execution_count": null,
   "id": "f63c0e06",
   "metadata": {},
   "outputs": [],
   "source": [
    "df_totalPeopleGradeWise"
   ]
  },
  {
   "cell_type": "code",
   "execution_count": null,
   "id": "4e58c617",
   "metadata": {},
   "outputs": [],
   "source": [
    "total_totalGradeWise = []\n",
    "for i in range(df_totalPeopleGradeWise.shape[0]):\n",
    "    total_totalGradeWise.append(df_totalPeopleGradeWise[i])"
   ]
  },
  {
   "cell_type": "markdown",
   "id": "571cc726",
   "metadata": {},
   "source": [
    "## Pie chart please : )"
   ]
  },
  {
   "cell_type": "code",
   "execution_count": null,
   "id": "ac31022f",
   "metadata": {},
   "outputs": [],
   "source": [
    "\"\"\"l = [1,2,3]\n",
    "m = [4,5,6]\n",
    "n=[7,8,9]\n",
    "r = {}\n",
    "label = [\"a\",\"b\",\"c\"]\n",
    "count = 0\n",
    "for i,j,k in zip(l,m,n):\n",
    "    r[label[count]] = round([i,j,k]/\n",
    "    count += 1\n",
    "    \"\"\""
   ]
  },
  {
   "cell_type": "code",
   "execution_count": null,
   "id": "1f7dda71",
   "metadata": {},
   "outputs": [],
   "source": [
    "gradewise_dist ={}\n",
    "grade_labels = sorted(df.grade.unique())\n",
    "cnt = 0\n",
    "for ch,cur,fPaid,totalGWise in zip(total_charged_off,total_current, total_fullyPaid, total_totalGradeWise):\n",
    "    gradewise_dist[grade_labels[cnt]] = [round(100 *ch/totalGWise,2), round(100 *cur/totalGWise,2), round(100 *fPaid/totalGWise,2)]\n",
    "    cnt += 1"
   ]
  },
  {
   "cell_type": "code",
   "execution_count": null,
   "id": "77cec6d3",
   "metadata": {},
   "outputs": [],
   "source": [
    "grade_labels"
   ]
  },
  {
   "cell_type": "code",
   "execution_count": null,
   "id": "fcdc46ce",
   "metadata": {},
   "outputs": [],
   "source": [
    "gradewise_dist"
   ]
  },
  {
   "cell_type": "markdown",
   "id": "92708965",
   "metadata": {},
   "source": [
    "## Charged Off column alone observation:\n",
    "1. Looking at this, it seems B,C D are more likely to default, it goes against our assumption: \"people with lower credit score are more likely to default\". \n",
    "2. It seems to be deceptive. We must see gradewise percent of people that have defaulted. "
   ]
  },
  {
   "cell_type": "code",
   "execution_count": null,
   "id": "acf753a9",
   "metadata": {},
   "outputs": [],
   "source": [
    "plt.figure(figsize=(10,10))\n",
    "plt.pie(df_chargedOff,labels=grade_labels,autopct='%.0f%%', textprops={'color':\"w\"})\n",
    "plt.show()"
   ]
  },
  {
   "cell_type": "code",
   "execution_count": null,
   "id": "048b02a8",
   "metadata": {
    "scrolled": false
   },
   "outputs": [],
   "source": [
    "#plt.figure(figsize=(10,15))\n",
    "for label in grade_labels:\n",
    "    plt.pie(gradewise_dist[label],labels=[\"Charged Off\", \"Current\", \"Fully Paid\"], autopct='%.0f%%', textprops={'color':\"w\"})\n",
    "    plt.title(f\"Grade {label}\")\n",
    "    plt.show()\n"
   ]
  },
  {
   "cell_type": "code",
   "execution_count": null,
   "id": "765b271d",
   "metadata": {},
   "outputs": [],
   "source": [
    "df_bak.pivot_table(index=\"home_ownership\",columns=[\"loan_status\"], values=\"funded_amnt\", aggfunc=\"mean\")"
   ]
  },
  {
   "cell_type": "code",
   "execution_count": null,
   "id": "19aef4df",
   "metadata": {},
   "outputs": [],
   "source": [
    "df_bak.pivot_table(index=[\"home_ownership\", \"emp_length2\"],columns=[\"loan_status\"], values=\"funded_amnt\", aggfunc=\"mean\")"
   ]
  },
  {
   "cell_type": "code",
   "execution_count": null,
   "id": "9243c5d8",
   "metadata": {},
   "outputs": [],
   "source": [
    "df.inq_last_6mths.value_counts()"
   ]
  },
  {
   "cell_type": "code",
   "execution_count": null,
   "id": "62ff6973",
   "metadata": {},
   "outputs": [],
   "source": [
    "pd.set_option('display.max_rows', 1000)"
   ]
  },
  {
   "cell_type": "code",
   "execution_count": null,
   "id": "00f79065",
   "metadata": {},
   "outputs": [],
   "source": [
    "df_bak.pivot_table(index=[\"addr_state\", \"zip_code\"],columns=[\"loan_status\"], values=\"funded_amnt\", aggfunc=\"median\")"
   ]
  },
  {
   "cell_type": "code",
   "execution_count": null,
   "id": "bdecb90d",
   "metadata": {},
   "outputs": [],
   "source": [
    "(df[df.emp_title == \"US Army\"][\"addr_state\"]).value_counts()"
   ]
  },
  {
   "cell_type": "code",
   "execution_count": null,
   "id": "8e591222",
   "metadata": {},
   "outputs": [],
   "source": [
    "df.zip_code.value_counts()"
   ]
  },
  {
   "cell_type": "code",
   "execution_count": null,
   "id": "c043a9a9",
   "metadata": {},
   "outputs": [],
   "source": [
    "df_bak"
   ]
  },
  {
   "cell_type": "code",
   "execution_count": null,
   "id": "654bce47",
   "metadata": {},
   "outputs": [],
   "source": [
    "df_bak.pivot_table(index=\"purpose\",columns=[\"loan_status\"], values=\"funded_amnt\", aggfunc=\"mean\")"
   ]
  },
  {
   "cell_type": "markdown",
   "id": "acb07cc7",
   "metadata": {},
   "source": [
    "## For the people who defaulted, let's look at the purpose distribution"
   ]
  },
  {
   "cell_type": "code",
   "execution_count": null,
   "id": "44afcfef",
   "metadata": {},
   "outputs": [],
   "source": [
    "df_chargedOff = df[df.loan_status == \"Charged Off\"]"
   ]
  },
  {
   "cell_type": "code",
   "execution_count": null,
   "id": "0e372cbf",
   "metadata": {},
   "outputs": [],
   "source": [
    "df_purpose = df_chargedOff.groupby(by=\"purpose\").size()"
   ]
  },
  {
   "cell_type": "code",
   "execution_count": null,
   "id": "dbe229e1",
   "metadata": {},
   "outputs": [],
   "source": [
    "label = df_bak[\"purpose\"].unique()"
   ]
  },
  {
   "cell_type": "code",
   "execution_count": null,
   "id": "60331c36",
   "metadata": {},
   "outputs": [],
   "source": [
    "label = sorted(label)"
   ]
  },
  {
   "cell_type": "code",
   "execution_count": null,
   "id": "fb9c01f4",
   "metadata": {
    "scrolled": true
   },
   "outputs": [],
   "source": [
    "label"
   ]
  },
  {
   "cell_type": "code",
   "execution_count": null,
   "id": "19c5a2e2",
   "metadata": {},
   "outputs": [],
   "source": []
  },
  {
   "cell_type": "code",
   "execution_count": null,
   "id": "16f02cd4",
   "metadata": {
    "scrolled": true
   },
   "outputs": [],
   "source": [
    "plt.figure(figsize=(10,10))\n",
    "plt.pie(df_purpose,labels=label, autopct='%.0f%%', textprops={'color':\"w\"})\n",
    "plt.show()"
   ]
  },
  {
   "cell_type": "markdown",
   "id": "37ef9c26",
   "metadata": {},
   "source": [
    "* By looking at the charged off distribution alone, we can say that debt consolidation contributes to the most defaults. \n",
    "* Then again, we must look at the percentages of defaults within each category\n",
    "### Histogram"
   ]
  },
  {
   "cell_type": "code",
   "execution_count": null,
   "id": "15d59ccc",
   "metadata": {},
   "outputs": [],
   "source": [
    "df.purpose.value_counts()"
   ]
  },
  {
   "cell_type": "code",
   "execution_count": null,
   "id": "16ad5fa0",
   "metadata": {},
   "outputs": [],
   "source": [
    "#plt.hist(df_purpose,label=label)\n",
    "plt.figure(figsize=(10,10))\n",
    "ax = df_purpose.plot(kind=\"bar\",color=[\"C0\",\"C1\",\"C2\"])\n",
    "plt.show()"
   ]
  },
  {
   "cell_type": "code",
   "execution_count": null,
   "id": "f41ca0f2",
   "metadata": {},
   "outputs": [],
   "source": [
    "df.purpose.value_counts()"
   ]
  },
  {
   "cell_type": "code",
   "execution_count": null,
   "id": "ef424c49",
   "metadata": {},
   "outputs": [],
   "source": [
    "df.purpose.value_counts().sort_index()"
   ]
  },
  {
   "cell_type": "code",
   "execution_count": null,
   "id": "e859edb7",
   "metadata": {},
   "outputs": [],
   "source": [
    "total = []\n",
    "for i in range(len(label)):\n",
    "    total.append(df.purpose.value_counts().sort_index()[i])\n",
    "    "
   ]
  },
  {
   "cell_type": "code",
   "execution_count": null,
   "id": "19948375",
   "metadata": {},
   "outputs": [],
   "source": [
    "total"
   ]
  },
  {
   "cell_type": "code",
   "execution_count": null,
   "id": "5ab8794d",
   "metadata": {},
   "outputs": [],
   "source": [
    "chargedOff_total = []\n",
    "for i in range(len(label)):\n",
    "    chargedOff_total.append(df_purpose[i])"
   ]
  },
  {
   "cell_type": "code",
   "execution_count": null,
   "id": "b0e355b9",
   "metadata": {},
   "outputs": [],
   "source": [
    "chargedOff_total"
   ]
  },
  {
   "cell_type": "code",
   "execution_count": null,
   "id": "dcc5e727",
   "metadata": {},
   "outputs": [],
   "source": [
    "df_purpose"
   ]
  },
  {
   "cell_type": "code",
   "execution_count": null,
   "id": "0de4b56b",
   "metadata": {},
   "outputs": [],
   "source": [
    "res = [round((i/j)*100,2) for i,j in zip(chargedOff_total, total)]"
   ]
  },
  {
   "cell_type": "code",
   "execution_count": null,
   "id": "6007a74f",
   "metadata": {},
   "outputs": [],
   "source": [
    "res= {}\n",
    "cnt = 0\n",
    "for i,j in zip(chargedOff_total,total):\n",
    "    res[label[cnt]] = round((i/j)*100,2)\n",
    "    cnt += 1"
   ]
  },
  {
   "cell_type": "code",
   "execution_count": null,
   "id": "14e8c4e0",
   "metadata": {},
   "outputs": [],
   "source": [
    "res"
   ]
  },
  {
   "cell_type": "code",
   "execution_count": null,
   "id": "8b5324b6",
   "metadata": {},
   "outputs": [],
   "source": [
    "plt.figure(figsize=(10,15))\n",
    "plt.pie(res.values(),labels=label, autopct='%.0f%%', textprops={\"color\": \"w\"})\n",
    "plt.show()"
   ]
  },
  {
   "cell_type": "markdown",
   "id": "155e11de",
   "metadata": {},
   "source": [
    "* From the above pie chart, we can see that 7% of loans asked for debt consolidation were defaulted. \n",
    "* small_business contributes to more defaults: 13%. Which kind of makes sense, after all small business can be make or break\n",
    "* Loans for car, wedding, credit_card repayment, major_purchase contribute to defaults the lowest. Home improvement is a close second"
   ]
  },
  {
   "cell_type": "code",
   "execution_count": null,
   "id": "43c90600",
   "metadata": {},
   "outputs": [],
   "source": []
  }
 ],
 "metadata": {
  "kernelspec": {
   "display_name": "Python 3 (ipykernel)",
   "language": "python",
   "name": "python3"
  },
  "language_info": {
   "codemirror_mode": {
    "name": "ipython",
    "version": 3
   },
   "file_extension": ".py",
   "mimetype": "text/x-python",
   "name": "python",
   "nbconvert_exporter": "python",
   "pygments_lexer": "ipython3",
   "version": "3.9.12"
  }
 },
 "nbformat": 4,
 "nbformat_minor": 5
}
